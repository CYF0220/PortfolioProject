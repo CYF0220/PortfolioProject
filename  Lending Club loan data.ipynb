{
 "cells": [
  {
   "cell_type": "markdown",
   "id": "13164bc5",
   "metadata": {},
   "source": [
    "Data from kaggle\n",
    "https://www.kaggle.com/wordsforthewise/lending-club\n",
    "\n",
    "LendingClub is a US peer-to-peer lending company, headquartered in San Francisco, California. It was the first peer-to-peer lender to register its offerings as securities with the Securities and Exchange Commission (SEC), and to offer loan trading on a secondary market. LendingClub is the world's largest peer-to-peer lending platform.\n",
    "\n",
    "Our Goal \n",
    "\n",
    "Given historical data on loans given out with information on whether or not the borrower defaulted (charge-off), can we build a model thatcan predict wether or nor a borrower will pay back their loan? This way in the future when we get a new potential customer we can assess whether or not they are likely to pay back the loan. \n",
    "\n",
    "The \"loan_status\" column contains our label."
   ]
  },
  {
   "cell_type": "code",
   "execution_count": 3,
   "id": "f2a8b8c3",
   "metadata": {},
   "outputs": [],
   "source": [
    "#import\n",
    "import pandas as pd\n",
    "import numpy as np \n",
    "import matplotlib.pyplot as plt\n",
    "import seaborn as sns\n",
    "%matplotlib inline"
   ]
  },
  {
   "cell_type": "markdown",
   "id": "e4bc9b67",
   "metadata": {},
   "source": [
    "<font color=black size=5 face=雅黑>**Read the information and read the data**</font>"
   ]
  },
  {
   "cell_type": "code",
   "execution_count": 4,
   "id": "b9729739",
   "metadata": {},
   "outputs": [],
   "source": [
    "#read the data information\n",
    "data_info = pd.read_csv('../DATA/lending_club_info.csv',index_col='LoanStatNew')"
   ]
  },
  {
   "cell_type": "code",
   "execution_count": 5,
   "id": "7752c972",
   "metadata": {},
   "outputs": [
    {
     "name": "stdout",
     "output_type": "stream",
     "text": [
      "Revolving line utilization rate, or the amount of credit the borrower is using relative to all available revolving credit.\n"
     ]
    }
   ],
   "source": [
    "print(data_info.loc['revol_util']['Description'])"
   ]
  },
  {
   "cell_type": "code",
   "execution_count": 6,
   "id": "9cc1fe65",
   "metadata": {},
   "outputs": [],
   "source": [
    "def feat_info(col_name):\n",
    "    print(data_info.loc[col_name]['Description'])"
   ]
  },
  {
   "cell_type": "code",
   "execution_count": 7,
   "id": "eba01886",
   "metadata": {},
   "outputs": [
    {
     "name": "stdout",
     "output_type": "stream",
     "text": [
      "Number of mortgage accounts.\n"
     ]
    }
   ],
   "source": [
    "feat_info('mort_acc')"
   ]
  },
  {
   "cell_type": "code",
   "execution_count": 8,
   "id": "72253b12",
   "metadata": {},
   "outputs": [],
   "source": [
    "df = pd.read_csv('../DATA/lending_club_loan_two.csv')"
   ]
  },
  {
   "cell_type": "code",
   "execution_count": 9,
   "id": "8bde7ad7",
   "metadata": {},
   "outputs": [
    {
     "data": {
      "text/html": [
       "<div>\n",
       "<style scoped>\n",
       "    .dataframe tbody tr th:only-of-type {\n",
       "        vertical-align: middle;\n",
       "    }\n",
       "\n",
       "    .dataframe tbody tr th {\n",
       "        vertical-align: top;\n",
       "    }\n",
       "\n",
       "    .dataframe thead th {\n",
       "        text-align: right;\n",
       "    }\n",
       "</style>\n",
       "<table border=\"1\" class=\"dataframe\">\n",
       "  <thead>\n",
       "    <tr style=\"text-align: right;\">\n",
       "      <th></th>\n",
       "      <th>loan_amnt</th>\n",
       "      <th>term</th>\n",
       "      <th>int_rate</th>\n",
       "      <th>installment</th>\n",
       "      <th>grade</th>\n",
       "      <th>sub_grade</th>\n",
       "      <th>emp_title</th>\n",
       "      <th>emp_length</th>\n",
       "      <th>home_ownership</th>\n",
       "      <th>annual_inc</th>\n",
       "      <th>...</th>\n",
       "      <th>open_acc</th>\n",
       "      <th>pub_rec</th>\n",
       "      <th>revol_bal</th>\n",
       "      <th>revol_util</th>\n",
       "      <th>total_acc</th>\n",
       "      <th>initial_list_status</th>\n",
       "      <th>application_type</th>\n",
       "      <th>mort_acc</th>\n",
       "      <th>pub_rec_bankruptcies</th>\n",
       "      <th>address</th>\n",
       "    </tr>\n",
       "  </thead>\n",
       "  <tbody>\n",
       "    <tr>\n",
       "      <th>0</th>\n",
       "      <td>10000.0</td>\n",
       "      <td>36 months</td>\n",
       "      <td>11.44</td>\n",
       "      <td>329.48</td>\n",
       "      <td>B</td>\n",
       "      <td>B4</td>\n",
       "      <td>Marketing</td>\n",
       "      <td>10+ years</td>\n",
       "      <td>RENT</td>\n",
       "      <td>117000.0</td>\n",
       "      <td>...</td>\n",
       "      <td>16.0</td>\n",
       "      <td>0.0</td>\n",
       "      <td>36369.0</td>\n",
       "      <td>41.8</td>\n",
       "      <td>25.0</td>\n",
       "      <td>w</td>\n",
       "      <td>INDIVIDUAL</td>\n",
       "      <td>0.0</td>\n",
       "      <td>0.0</td>\n",
       "      <td>0174 Michelle Gateway\\nMendozaberg, OK 22690</td>\n",
       "    </tr>\n",
       "    <tr>\n",
       "      <th>1</th>\n",
       "      <td>8000.0</td>\n",
       "      <td>36 months</td>\n",
       "      <td>11.99</td>\n",
       "      <td>265.68</td>\n",
       "      <td>B</td>\n",
       "      <td>B5</td>\n",
       "      <td>Credit analyst</td>\n",
       "      <td>4 years</td>\n",
       "      <td>MORTGAGE</td>\n",
       "      <td>65000.0</td>\n",
       "      <td>...</td>\n",
       "      <td>17.0</td>\n",
       "      <td>0.0</td>\n",
       "      <td>20131.0</td>\n",
       "      <td>53.3</td>\n",
       "      <td>27.0</td>\n",
       "      <td>f</td>\n",
       "      <td>INDIVIDUAL</td>\n",
       "      <td>3.0</td>\n",
       "      <td>0.0</td>\n",
       "      <td>1076 Carney Fort Apt. 347\\nLoganmouth, SD 05113</td>\n",
       "    </tr>\n",
       "    <tr>\n",
       "      <th>2</th>\n",
       "      <td>15600.0</td>\n",
       "      <td>36 months</td>\n",
       "      <td>10.49</td>\n",
       "      <td>506.97</td>\n",
       "      <td>B</td>\n",
       "      <td>B3</td>\n",
       "      <td>Statistician</td>\n",
       "      <td>&lt; 1 year</td>\n",
       "      <td>RENT</td>\n",
       "      <td>43057.0</td>\n",
       "      <td>...</td>\n",
       "      <td>13.0</td>\n",
       "      <td>0.0</td>\n",
       "      <td>11987.0</td>\n",
       "      <td>92.2</td>\n",
       "      <td>26.0</td>\n",
       "      <td>f</td>\n",
       "      <td>INDIVIDUAL</td>\n",
       "      <td>0.0</td>\n",
       "      <td>0.0</td>\n",
       "      <td>87025 Mark Dale Apt. 269\\nNew Sabrina, WV 05113</td>\n",
       "    </tr>\n",
       "    <tr>\n",
       "      <th>3</th>\n",
       "      <td>7200.0</td>\n",
       "      <td>36 months</td>\n",
       "      <td>6.49</td>\n",
       "      <td>220.65</td>\n",
       "      <td>A</td>\n",
       "      <td>A2</td>\n",
       "      <td>Client Advocate</td>\n",
       "      <td>6 years</td>\n",
       "      <td>RENT</td>\n",
       "      <td>54000.0</td>\n",
       "      <td>...</td>\n",
       "      <td>6.0</td>\n",
       "      <td>0.0</td>\n",
       "      <td>5472.0</td>\n",
       "      <td>21.5</td>\n",
       "      <td>13.0</td>\n",
       "      <td>f</td>\n",
       "      <td>INDIVIDUAL</td>\n",
       "      <td>0.0</td>\n",
       "      <td>0.0</td>\n",
       "      <td>823 Reid Ford\\nDelacruzside, MA 00813</td>\n",
       "    </tr>\n",
       "    <tr>\n",
       "      <th>4</th>\n",
       "      <td>24375.0</td>\n",
       "      <td>60 months</td>\n",
       "      <td>17.27</td>\n",
       "      <td>609.33</td>\n",
       "      <td>C</td>\n",
       "      <td>C5</td>\n",
       "      <td>Destiny Management Inc.</td>\n",
       "      <td>9 years</td>\n",
       "      <td>MORTGAGE</td>\n",
       "      <td>55000.0</td>\n",
       "      <td>...</td>\n",
       "      <td>13.0</td>\n",
       "      <td>0.0</td>\n",
       "      <td>24584.0</td>\n",
       "      <td>69.8</td>\n",
       "      <td>43.0</td>\n",
       "      <td>f</td>\n",
       "      <td>INDIVIDUAL</td>\n",
       "      <td>1.0</td>\n",
       "      <td>0.0</td>\n",
       "      <td>679 Luna Roads\\nGreggshire, VA 11650</td>\n",
       "    </tr>\n",
       "  </tbody>\n",
       "</table>\n",
       "<p>5 rows × 27 columns</p>\n",
       "</div>"
      ],
      "text/plain": [
       "   loan_amnt        term  int_rate  installment grade sub_grade  \\\n",
       "0    10000.0   36 months     11.44       329.48     B        B4   \n",
       "1     8000.0   36 months     11.99       265.68     B        B5   \n",
       "2    15600.0   36 months     10.49       506.97     B        B3   \n",
       "3     7200.0   36 months      6.49       220.65     A        A2   \n",
       "4    24375.0   60 months     17.27       609.33     C        C5   \n",
       "\n",
       "                 emp_title emp_length home_ownership  annual_inc  ...  \\\n",
       "0                Marketing  10+ years           RENT    117000.0  ...   \n",
       "1          Credit analyst     4 years       MORTGAGE     65000.0  ...   \n",
       "2             Statistician   < 1 year           RENT     43057.0  ...   \n",
       "3          Client Advocate    6 years           RENT     54000.0  ...   \n",
       "4  Destiny Management Inc.    9 years       MORTGAGE     55000.0  ...   \n",
       "\n",
       "  open_acc pub_rec revol_bal revol_util total_acc  initial_list_status  \\\n",
       "0     16.0     0.0   36369.0       41.8      25.0                    w   \n",
       "1     17.0     0.0   20131.0       53.3      27.0                    f   \n",
       "2     13.0     0.0   11987.0       92.2      26.0                    f   \n",
       "3      6.0     0.0    5472.0       21.5      13.0                    f   \n",
       "4     13.0     0.0   24584.0       69.8      43.0                    f   \n",
       "\n",
       "  application_type  mort_acc  pub_rec_bankruptcies  \\\n",
       "0       INDIVIDUAL       0.0                   0.0   \n",
       "1       INDIVIDUAL       3.0                   0.0   \n",
       "2       INDIVIDUAL       0.0                   0.0   \n",
       "3       INDIVIDUAL       0.0                   0.0   \n",
       "4       INDIVIDUAL       1.0                   0.0   \n",
       "\n",
       "                                           address  \n",
       "0     0174 Michelle Gateway\\nMendozaberg, OK 22690  \n",
       "1  1076 Carney Fort Apt. 347\\nLoganmouth, SD 05113  \n",
       "2  87025 Mark Dale Apt. 269\\nNew Sabrina, WV 05113  \n",
       "3            823 Reid Ford\\nDelacruzside, MA 00813  \n",
       "4             679 Luna Roads\\nGreggshire, VA 11650  \n",
       "\n",
       "[5 rows x 27 columns]"
      ]
     },
     "execution_count": 9,
     "metadata": {},
     "output_type": "execute_result"
    }
   ],
   "source": [
    "df.head()"
   ]
  },
  {
   "cell_type": "code",
   "execution_count": 10,
   "id": "e8c3f0d0",
   "metadata": {},
   "outputs": [
    {
     "name": "stdout",
     "output_type": "stream",
     "text": [
      "<class 'pandas.core.frame.DataFrame'>\n",
      "RangeIndex: 396030 entries, 0 to 396029\n",
      "Data columns (total 27 columns):\n",
      " #   Column                Non-Null Count   Dtype  \n",
      "---  ------                --------------   -----  \n",
      " 0   loan_amnt             396030 non-null  float64\n",
      " 1   term                  396030 non-null  object \n",
      " 2   int_rate              396030 non-null  float64\n",
      " 3   installment           396030 non-null  float64\n",
      " 4   grade                 396030 non-null  object \n",
      " 5   sub_grade             396030 non-null  object \n",
      " 6   emp_title             373103 non-null  object \n",
      " 7   emp_length            377729 non-null  object \n",
      " 8   home_ownership        396030 non-null  object \n",
      " 9   annual_inc            396030 non-null  float64\n",
      " 10  verification_status   396030 non-null  object \n",
      " 11  issue_d               396030 non-null  object \n",
      " 12  loan_status           396030 non-null  object \n",
      " 13  purpose               396030 non-null  object \n",
      " 14  title                 394275 non-null  object \n",
      " 15  dti                   396030 non-null  float64\n",
      " 16  earliest_cr_line      396030 non-null  object \n",
      " 17  open_acc              396030 non-null  float64\n",
      " 18  pub_rec               396030 non-null  float64\n",
      " 19  revol_bal             396030 non-null  float64\n",
      " 20  revol_util            395754 non-null  float64\n",
      " 21  total_acc             396030 non-null  float64\n",
      " 22  initial_list_status   396030 non-null  object \n",
      " 23  application_type      396030 non-null  object \n",
      " 24  mort_acc              358235 non-null  float64\n",
      " 25  pub_rec_bankruptcies  395495 non-null  float64\n",
      " 26  address               396030 non-null  object \n",
      "dtypes: float64(12), object(15)\n",
      "memory usage: 81.6+ MB\n"
     ]
    }
   ],
   "source": [
    "df.info()"
   ]
  },
  {
   "cell_type": "markdown",
   "id": "3be356df",
   "metadata": {},
   "source": [
    "<font color=black size=5 face=雅黑>**Exploratory data analysis**</font>"
   ]
  },
  {
   "cell_type": "code",
   "execution_count": 11,
   "id": "7875c714",
   "metadata": {},
   "outputs": [
    {
     "data": {
      "text/plain": [
       "<AxesSubplot:xlabel='loan_status', ylabel='count'>"
      ]
     },
     "execution_count": 11,
     "metadata": {},
     "output_type": "execute_result"
    },
    {
     "data": {
      "image/png": "[encoded data removed]",
      "text/plain": [
       "<Figure size 432x288 with 1 Axes>"
      ]
     },
     "metadata": {
      "needs_background": "light"
     },
     "output_type": "display_data"
    }
   ],
   "source": [
    "sns.countplot(x='loan_status',data=df)"
   ]
  },
  {
   "cell_type": "code",
   "execution_count": 12,
   "id": "4ef50e05",
   "metadata": {},
   "outputs": [
    {
     "data": {
      "text/plain": [
       "<seaborn.axisgrid.FacetGrid at 0xb7bce20>"
      ]
     },
     "execution_count": 12,
     "metadata": {},
     "output_type": "execute_result"
    },
    {
     "data": {
      "text/plain": [
       "<Figure size 1440x360 with 0 Axes>"
      ]
     },
     "metadata": {},
     "output_type": "display_data"
    },
    {
     "data": {
      "image/png": "[encoded data removed]",
      "text/plain": [
       "<Figure size 360x360 with 1 Axes>"
      ]
     },
     "metadata": {
      "needs_background": "light"
     },
     "output_type": "display_data"
    }
   ],
   "source": [
    "plt.figure(figsize=(20,5))\n",
    "sns.displot(df['loan_amnt'],kde = False,bins=40)"
   ]
  },
  {
   "cell_type": "code",
   "execution_count": 13,
   "id": "25f7dc49",
   "metadata": {},
   "outputs": [
    {
     "data": {
      "text/html": [
       "<div>\n",
       "<style scoped>\n",
       "    .dataframe tbody tr th:only-of-type {\n",
       "        vertical-align: middle;\n",
       "    }\n",
       "\n",
       "    .dataframe tbody tr th {\n",
       "        vertical-align: top;\n",
       "    }\n",
       "\n",
       "    .dataframe thead th {\n",
       "        text-align: right;\n",
       "    }\n",
       "</style>\n",
       "<table border=\"1\" class=\"dataframe\">\n",
       "  <thead>\n",
       "    <tr style=\"text-align: right;\">\n",
       "      <th></th>\n",
       "      <th>loan_amnt</th>\n",
       "      <th>int_rate</th>\n",
       "      <th>installment</th>\n",
       "      <th>annual_inc</th>\n",
       "      <th>dti</th>\n",
       "      <th>open_acc</th>\n",
       "      <th>pub_rec</th>\n",
       "      <th>revol_bal</th>\n",
       "      <th>revol_util</th>\n",
       "      <th>total_acc</th>\n",
       "      <th>mort_acc</th>\n",
       "      <th>pub_rec_bankruptcies</th>\n",
       "    </tr>\n",
       "  </thead>\n",
       "  <tbody>\n",
       "    <tr>\n",
       "      <th>loan_amnt</th>\n",
       "      <td>1.000000</td>\n",
       "      <td>0.168921</td>\n",
       "      <td>0.953929</td>\n",
       "      <td>0.336887</td>\n",
       "      <td>0.016636</td>\n",
       "      <td>0.198556</td>\n",
       "      <td>-0.077779</td>\n",
       "      <td>0.328320</td>\n",
       "      <td>0.099911</td>\n",
       "      <td>0.223886</td>\n",
       "      <td>0.222315</td>\n",
       "      <td>-0.106539</td>\n",
       "    </tr>\n",
       "    <tr>\n",
       "      <th>int_rate</th>\n",
       "      <td>0.168921</td>\n",
       "      <td>1.000000</td>\n",
       "      <td>0.162758</td>\n",
       "      <td>-0.056771</td>\n",
       "      <td>0.079038</td>\n",
       "      <td>0.011649</td>\n",
       "      <td>0.060986</td>\n",
       "      <td>-0.011280</td>\n",
       "      <td>0.293659</td>\n",
       "      <td>-0.036404</td>\n",
       "      <td>-0.082583</td>\n",
       "      <td>0.057450</td>\n",
       "    </tr>\n",
       "    <tr>\n",
       "      <th>installment</th>\n",
       "      <td>0.953929</td>\n",
       "      <td>0.162758</td>\n",
       "      <td>1.000000</td>\n",
       "      <td>0.330381</td>\n",
       "      <td>0.015786</td>\n",
       "      <td>0.188973</td>\n",
       "      <td>-0.067892</td>\n",
       "      <td>0.316455</td>\n",
       "      <td>0.123915</td>\n",
       "      <td>0.202430</td>\n",
       "      <td>0.193694</td>\n",
       "      <td>-0.098628</td>\n",
       "    </tr>\n",
       "    <tr>\n",
       "      <th>annual_inc</th>\n",
       "      <td>0.336887</td>\n",
       "      <td>-0.056771</td>\n",
       "      <td>0.330381</td>\n",
       "      <td>1.000000</td>\n",
       "      <td>-0.081685</td>\n",
       "      <td>0.136150</td>\n",
       "      <td>-0.013720</td>\n",
       "      <td>0.299773</td>\n",
       "      <td>0.027871</td>\n",
       "      <td>0.193023</td>\n",
       "      <td>0.236320</td>\n",
       "      <td>-0.050162</td>\n",
       "    </tr>\n",
       "    <tr>\n",
       "      <th>dti</th>\n",
       "      <td>0.016636</td>\n",
       "      <td>0.079038</td>\n",
       "      <td>0.015786</td>\n",
       "      <td>-0.081685</td>\n",
       "      <td>1.000000</td>\n",
       "      <td>0.136181</td>\n",
       "      <td>-0.017639</td>\n",
       "      <td>0.063571</td>\n",
       "      <td>0.088375</td>\n",
       "      <td>0.102128</td>\n",
       "      <td>-0.025439</td>\n",
       "      <td>-0.014558</td>\n",
       "    </tr>\n",
       "    <tr>\n",
       "      <th>open_acc</th>\n",
       "      <td>0.198556</td>\n",
       "      <td>0.011649</td>\n",
       "      <td>0.188973</td>\n",
       "      <td>0.136150</td>\n",
       "      <td>0.136181</td>\n",
       "      <td>1.000000</td>\n",
       "      <td>-0.018392</td>\n",
       "      <td>0.221192</td>\n",
       "      <td>-0.131420</td>\n",
       "      <td>0.680728</td>\n",
       "      <td>0.109205</td>\n",
       "      <td>-0.027732</td>\n",
       "    </tr>\n",
       "    <tr>\n",
       "      <th>pub_rec</th>\n",
       "      <td>-0.077779</td>\n",
       "      <td>0.060986</td>\n",
       "      <td>-0.067892</td>\n",
       "      <td>-0.013720</td>\n",
       "      <td>-0.017639</td>\n",
       "      <td>-0.018392</td>\n",
       "      <td>1.000000</td>\n",
       "      <td>-0.101664</td>\n",
       "      <td>-0.075910</td>\n",
       "      <td>0.019723</td>\n",
       "      <td>0.011552</td>\n",
       "      <td>0.699408</td>\n",
       "    </tr>\n",
       "    <tr>\n",
       "      <th>revol_bal</th>\n",
       "      <td>0.328320</td>\n",
       "      <td>-0.011280</td>\n",
       "      <td>0.316455</td>\n",
       "      <td>0.299773</td>\n",
       "      <td>0.063571</td>\n",
       "      <td>0.221192</td>\n",
       "      <td>-0.101664</td>\n",
       "      <td>1.000000</td>\n",
       "      <td>0.226346</td>\n",
       "      <td>0.191616</td>\n",
       "      <td>0.194925</td>\n",
       "      <td>-0.124532</td>\n",
       "    </tr>\n",
       "    <tr>\n",
       "      <th>revol_util</th>\n",
       "      <td>0.099911</td>\n",
       "      <td>0.293659</td>\n",
       "      <td>0.123915</td>\n",
       "      <td>0.027871</td>\n",
       "      <td>0.088375</td>\n",
       "      <td>-0.131420</td>\n",
       "      <td>-0.075910</td>\n",
       "      <td>0.226346</td>\n",
       "      <td>1.000000</td>\n",
       "      <td>-0.104273</td>\n",
       "      <td>0.007514</td>\n",
       "      <td>-0.086751</td>\n",
       "    </tr>\n",
       "    <tr>\n",
       "      <th>total_acc</th>\n",
       "      <td>0.223886</td>\n",
       "      <td>-0.036404</td>\n",
       "      <td>0.202430</td>\n",
       "      <td>0.193023</td>\n",
       "      <td>0.102128</td>\n",
       "      <td>0.680728</td>\n",
       "      <td>0.019723</td>\n",
       "      <td>0.191616</td>\n",
       "      <td>-0.104273</td>\n",
       "      <td>1.000000</td>\n",
       "      <td>0.381072</td>\n",
       "      <td>0.042035</td>\n",
       "    </tr>\n",
       "    <tr>\n",
       "      <th>mort_acc</th>\n",
       "      <td>0.222315</td>\n",
       "      <td>-0.082583</td>\n",
       "      <td>0.193694</td>\n",
       "      <td>0.236320</td>\n",
       "      <td>-0.025439</td>\n",
       "      <td>0.109205</td>\n",
       "      <td>0.011552</td>\n",
       "      <td>0.194925</td>\n",
       "      <td>0.007514</td>\n",
       "      <td>0.381072</td>\n",
       "      <td>1.000000</td>\n",
       "      <td>0.027239</td>\n",
       "    </tr>\n",
       "    <tr>\n",
       "      <th>pub_rec_bankruptcies</th>\n",
       "      <td>-0.106539</td>\n",
       "      <td>0.057450</td>\n",
       "      <td>-0.098628</td>\n",
       "      <td>-0.050162</td>\n",
       "      <td>-0.014558</td>\n",
       "      <td>-0.027732</td>\n",
       "      <td>0.699408</td>\n",
       "      <td>-0.124532</td>\n",
       "      <td>-0.086751</td>\n",
       "      <td>0.042035</td>\n",
       "      <td>0.027239</td>\n",
       "      <td>1.000000</td>\n",
       "    </tr>\n",
       "  </tbody>\n",
       "</table>\n",
       "</div>"
      ],
      "text/plain": [
       "                      loan_amnt  int_rate  installment  annual_inc       dti  \\\n",
       "loan_amnt              1.000000  0.168921     0.953929    0.336887  0.016636   \n",
       "int_rate               0.168921  1.000000     0.162758   -0.056771  0.079038   \n",
       "installment            0.953929  0.162758     1.000000    0.330381  0.015786   \n",
       "annual_inc             0.336887 -0.056771     0.330381    1.000000 -0.081685   \n",
       "dti                    0.016636  0.079038     0.015786   -0.081685  1.000000   \n",
       "open_acc               0.198556  0.011649     0.188973    0.136150  0.136181   \n",
       "pub_rec               -0.077779  0.060986    -0.067892   -0.013720 -0.017639   \n",
       "revol_bal              0.328320 -0.011280     0.316455    0.299773  0.063571   \n",
       "revol_util             0.099911  0.293659     0.123915    0.027871  0.088375   \n",
       "total_acc              0.223886 -0.036404     0.202430    0.193023  0.102128   \n",
       "mort_acc               0.222315 -0.082583     0.193694    0.236320 -0.025439   \n",
       "pub_rec_bankruptcies  -0.106539  0.057450    -0.098628   -0.050162 -0.014558   \n",
       "\n",
       "                      open_acc   pub_rec  revol_bal  revol_util  total_acc  \\\n",
       "loan_amnt             0.198556 -0.077779   0.328320    0.099911   0.223886   \n",
       "int_rate              0.011649  0.060986  -0.011280    0.293659  -0.036404   \n",
       "installment           0.188973 -0.067892   0.316455    0.123915   0.202430   \n",
       "annual_inc            0.136150 -0.013720   0.299773    0.027871   0.193023   \n",
       "dti                   0.136181 -0.017639   0.063571    0.088375   0.102128   \n",
       "open_acc              1.000000 -0.018392   0.221192   -0.131420   0.680728   \n",
       "pub_rec              -0.018392  1.000000  -0.101664   -0.075910   0.019723   \n",
       "revol_bal             0.221192 -0.101664   1.000000    0.226346   0.191616   \n",
       "revol_util           -0.131420 -0.075910   0.226346    1.000000  -0.104273   \n",
       "total_acc             0.680728  0.019723   0.191616   -0.104273   1.000000   \n",
       "mort_acc              0.109205  0.011552   0.194925    0.007514   0.381072   \n",
       "pub_rec_bankruptcies -0.027732  0.699408  -0.124532   -0.086751   0.042035   \n",
       "\n",
       "                      mort_acc  pub_rec_bankruptcies  \n",
       "loan_amnt             0.222315             -0.106539  \n",
       "int_rate             -0.082583              0.057450  \n",
       "installment           0.193694             -0.098628  \n",
       "annual_inc            0.236320             -0.050162  \n",
       "dti                  -0.025439             -0.014558  \n",
       "open_acc              0.109205             -0.027732  \n",
       "pub_rec               0.011552              0.699408  \n",
       "revol_bal             0.194925             -0.124532  \n",
       "revol_util            0.007514             -0.086751  \n",
       "total_acc             0.381072              0.042035  \n",
       "mort_acc              1.000000              0.027239  \n",
       "pub_rec_bankruptcies  0.027239              1.000000  "
      ]
     },
     "execution_count": 13,
     "metadata": {},
     "output_type": "execute_result"
    }
   ],
   "source": [
    "df.corr()"
   ]
  },
  {
   "cell_type": "code",
   "execution_count": 14,
   "id": "5a1d451f",
   "metadata": {},
   "outputs": [
    {
     "data": {
      "text/plain": [
       "(10.0, 0.0)"
      ]
     },
     "execution_count": 14,
     "metadata": {},
     "output_type": "execute_result"
    },
    {
     "data": {
      "image/png": "[encoded data removed]",
      "text/plain": [
       "<Figure size 864x504 with 2 Axes>"
      ]
     },
     "metadata": {
      "needs_background": "light"
     },
     "output_type": "display_data"
    }
   ],
   "source": [
    "plt.figure(figsize=(12,7))\n",
    "sns.heatmap(df.corr(),annot=True,cmap='viridis')\n",
    "plt.ylim(10,0)"
   ]
  },
  {
   "cell_type": "code",
   "execution_count": 15,
   "id": "e5e42db0",
   "metadata": {},
   "outputs": [],
   "source": [
    "feat_info('installment')"
   ]
  },
  {
   "cell_type": "code",
   "execution_count": 16,
   "id": "bfff34e1",
   "metadata": {},
   "outputs": [
    {
     "name": "stdout",
     "output_type": "stream",
     "text": [
      "The monthly payment owed by the borrower if the loan originates.\n",
      "The listed amount of the loan applied for by the borrower. If at some point in time, the credit department reduces the loan amount, then it will be reflected in this value.\n"
     ]
    }
   ],
   "source": [
    "feat_info('loan_amnt')"
   ]
  },
  {
   "cell_type": "code",
   "execution_count": 17,
   "id": "e7f6657d",
   "metadata": {},
   "outputs": [
    {
     "data": {
      "text/plain": [
       "<AxesSubplot:xlabel='installment', ylabel='loan_amnt'>"
      ]
     },
     "execution_count": 17,
     "metadata": {},
     "output_type": "execute_result"
    },
    {
     "data": {
      "image/png": "[encoded data removed]",
      "text/plain": [
       "<Figure size 432x288 with 1 Axes>"
      ]
     },
     "metadata": {
      "needs_background": "light"
     },
     "output_type": "display_data"
    }
   ],
   "source": [
    "sns.scatterplot(x='installment',y='loan_amnt',data=df)\n",
    "#high relation since they have probably same issue"
   ]
  },
  {
   "cell_type": "code",
   "execution_count": 18,
   "id": "e08aeb94",
   "metadata": {},
   "outputs": [
    {
     "data": {
      "text/plain": [
       "<AxesSubplot:xlabel='loan_status', ylabel='loan_amnt'>"
      ]
     },
     "execution_count": 18,
     "metadata": {},
     "output_type": "execute_result"
    },
    {
     "data": {
      "image/png": "[encoded data removed]",
      "text/plain": [
       "<Figure size 432x288 with 1 Axes>"
      ]
     },
     "metadata": {
      "needs_background": "light"
     },
     "output_type": "display_data"
    }
   ],
   "source": [
    "sns.boxplot(x='loan_status',y='loan_amnt',data = df)"
   ]
  },
  {
   "cell_type": "code",
   "execution_count": 19,
   "id": "e87157b8",
   "metadata": {
    "scrolled": true
   },
   "outputs": [
    {
     "data": {
      "text/html": [
       "<div>\n",
       "<style scoped>\n",
       "    .dataframe tbody tr th:only-of-type {\n",
       "        vertical-align: middle;\n",
       "    }\n",
       "\n",
       "    .dataframe tbody tr th {\n",
       "        vertical-align: top;\n",
       "    }\n",
       "\n",
       "    .dataframe thead th {\n",
       "        text-align: right;\n",
       "    }\n",
       "</style>\n",
       "<table border=\"1\" class=\"dataframe\">\n",
       "  <thead>\n",
       "    <tr style=\"text-align: right;\">\n",
       "      <th>loan_status</th>\n",
       "      <th>Charged Off</th>\n",
       "      <th>Fully Paid</th>\n",
       "    </tr>\n",
       "  </thead>\n",
       "  <tbody>\n",
       "    <tr>\n",
       "      <th>count</th>\n",
       "      <td>77673.000000</td>\n",
       "      <td>318357.000000</td>\n",
       "    </tr>\n",
       "    <tr>\n",
       "      <th>mean</th>\n",
       "      <td>15126.300967</td>\n",
       "      <td>13866.878771</td>\n",
       "    </tr>\n",
       "    <tr>\n",
       "      <th>std</th>\n",
       "      <td>8505.090557</td>\n",
       "      <td>8302.319699</td>\n",
       "    </tr>\n",
       "    <tr>\n",
       "      <th>min</th>\n",
       "      <td>1000.000000</td>\n",
       "      <td>500.000000</td>\n",
       "    </tr>\n",
       "    <tr>\n",
       "      <th>25%</th>\n",
       "      <td>8525.000000</td>\n",
       "      <td>7500.000000</td>\n",
       "    </tr>\n",
       "    <tr>\n",
       "      <th>50%</th>\n",
       "      <td>14000.000000</td>\n",
       "      <td>12000.000000</td>\n",
       "    </tr>\n",
       "    <tr>\n",
       "      <th>75%</th>\n",
       "      <td>20000.000000</td>\n",
       "      <td>19225.000000</td>\n",
       "    </tr>\n",
       "    <tr>\n",
       "      <th>max</th>\n",
       "      <td>40000.000000</td>\n",
       "      <td>40000.000000</td>\n",
       "    </tr>\n",
       "  </tbody>\n",
       "</table>\n",
       "</div>"
      ],
      "text/plain": [
       "loan_status   Charged Off     Fully Paid\n",
       "count        77673.000000  318357.000000\n",
       "mean         15126.300967   13866.878771\n",
       "std           8505.090557    8302.319699\n",
       "min           1000.000000     500.000000\n",
       "25%           8525.000000    7500.000000\n",
       "50%          14000.000000   12000.000000\n",
       "75%          20000.000000   19225.000000\n",
       "max          40000.000000   40000.000000"
      ]
     },
     "execution_count": 19,
     "metadata": {},
     "output_type": "execute_result"
    }
   ],
   "source": [
    "df.groupby('loan_status')['loan_amnt'].describe().transpose()"
   ]
  },
  {
   "cell_type": "code",
   "execution_count": 20,
   "id": "7a500f02",
   "metadata": {},
   "outputs": [
    {
     "data": {
      "text/plain": [
       "array(['B', 'A', 'C', 'E', 'D', 'F', 'G'], dtype=object)"
      ]
     },
     "execution_count": 20,
     "metadata": {},
     "output_type": "execute_result"
    }
   ],
   "source": [
    "df['grade'].unique()"
   ]
  },
  {
   "cell_type": "code",
   "execution_count": 21,
   "id": "d0b67efa",
   "metadata": {},
   "outputs": [
    {
     "data": {
      "text/plain": [
       "array(['B4', 'B5', 'B3', 'A2', 'C5', 'C3', 'A1', 'B2', 'C1', 'A5', 'E4',\n",
       "       'A4', 'A3', 'D1', 'C2', 'B1', 'D3', 'D5', 'D2', 'E1', 'E2', 'E5',\n",
       "       'F4', 'E3', 'D4', 'G1', 'F5', 'G2', 'C4', 'F1', 'F3', 'G5', 'G4',\n",
       "       'F2', 'G3'], dtype=object)"
      ]
     },
     "execution_count": 21,
     "metadata": {},
     "output_type": "execute_result"
    }
   ],
   "source": [
    "df['sub_grade'].unique()\n"
   ]
  },
  {
   "cell_type": "code",
   "execution_count": 22,
   "id": "02efb7d9",
   "metadata": {},
   "outputs": [
    {
     "name": "stdout",
     "output_type": "stream",
     "text": [
      "LC assigned loan subgrade\n"
     ]
    }
   ],
   "source": [
    "feat_info('sub_grade')"
   ]
  },
  {
   "cell_type": "code",
   "execution_count": 23,
   "id": "412345a6",
   "metadata": {},
   "outputs": [
    {
     "data": {
      "text/plain": [
       "<AxesSubplot:xlabel='grade', ylabel='count'>"
      ]
     },
     "execution_count": 23,
     "metadata": {},
     "output_type": "execute_result"
    },
    {
     "data": {
      "image/png": "[encoded data removed]",
      "text/plain": [
       "<Figure size 432x288 with 1 Axes>"
      ]
     },
     "metadata": {
      "needs_background": "light"
     },
     "output_type": "display_data"
    }
   ],
   "source": [
    "sns.countplot(x='grade',data=df,hue='loan_status')"
   ]
  },
  {
   "cell_type": "code",
   "execution_count": 24,
   "id": "181c495c",
   "metadata": {},
   "outputs": [
    {
     "data": {
      "text/plain": [
       "<AxesSubplot:xlabel='sub_grade', ylabel='count'>"
      ]
     },
     "execution_count": 24,
     "metadata": {},
     "output_type": "execute_result"
    },
    {
     "data": {
      "image/png": "[encoded data removed]",
      "text/plain": [
       "<Figure size 1440x576 with 1 Axes>"
      ]
     },
     "metadata": {
      "needs_background": "light"
     },
     "output_type": "display_data"
    }
   ],
   "source": [
    "plt.figure(figsize=(20,8))\n",
    "subgrade_order = sorted(df['sub_grade'].unique())\n",
    "sns.countplot(x='sub_grade',data=df,order=subgrade_order,palette='coolwarm')"
   ]
  },
  {
   "cell_type": "code",
   "execution_count": 25,
   "id": "477f8aed",
   "metadata": {},
   "outputs": [
    {
     "data": {
      "text/plain": [
       "<AxesSubplot:xlabel='sub_grade', ylabel='count'>"
      ]
     },
     "execution_count": 25,
     "metadata": {},
     "output_type": "execute_result"
    },
    {
     "data": {
      "image/png": "[encoded data removed]",
      "text/plain": [
       "<Figure size 1440x576 with 1 Axes>"
      ]
     },
     "metadata": {
      "needs_background": "light"
     },
     "output_type": "display_data"
    }
   ],
   "source": [
    "plt.figure(figsize=(20,8))\n",
    "subgrade_order = sorted(df['sub_grade'].unique())\n",
    "sns.countplot(x='sub_grade',data=df,hue='loan_status',order=subgrade_order)"
   ]
  },
  {
   "cell_type": "code",
   "execution_count": 26,
   "id": "7edfb018",
   "metadata": {},
   "outputs": [
    {
     "data": {
      "text/plain": [
       "<AxesSubplot:xlabel='sub_grade', ylabel='count'>"
      ]
     },
     "execution_count": 26,
     "metadata": {},
     "output_type": "execute_result"
    },
    {
     "data": {
      "image/png": "[encoded data removed]",
      "text/plain": [
       "<Figure size 1440x576 with 1 Axes>"
      ]
     },
     "metadata": {
      "needs_background": "light"
     },
     "output_type": "display_data"
    }
   ],
   "source": [
    "f_and_g = df[(df['grade']=='F') | (df['grade']=='G')]\n",
    "plt.figure(figsize=(20,8))\n",
    "subgrade_order = sorted(f_and_g['sub_grade'].unique())\n",
    "sns.countplot(x='sub_grade',data=f_and_g,hue='loan_status',order=subgrade_order)"
   ]
  },
  {
   "cell_type": "code",
   "execution_count": 27,
   "id": "53e7cead",
   "metadata": {},
   "outputs": [
    {
     "data": {
      "text/plain": [
       "0          Fully Paid\n",
       "1          Fully Paid\n",
       "2          Fully Paid\n",
       "3          Fully Paid\n",
       "4         Charged Off\n",
       "             ...     \n",
       "396025     Fully Paid\n",
       "396026     Fully Paid\n",
       "396027     Fully Paid\n",
       "396028     Fully Paid\n",
       "396029     Fully Paid\n",
       "Name: loan_status, Length: 396030, dtype: object"
      ]
     },
     "execution_count": 27,
     "metadata": {},
     "output_type": "execute_result"
    }
   ],
   "source": [
    "df['loan_status']"
   ]
  },
  {
   "cell_type": "code",
   "execution_count": 28,
   "id": "020a5dd9",
   "metadata": {},
   "outputs": [
    {
     "data": {
      "text/html": [
       "<div>\n",
       "<style scoped>\n",
       "    .dataframe tbody tr th:only-of-type {\n",
       "        vertical-align: middle;\n",
       "    }\n",
       "\n",
       "    .dataframe tbody tr th {\n",
       "        vertical-align: top;\n",
       "    }\n",
       "\n",
       "    .dataframe thead th {\n",
       "        text-align: right;\n",
       "    }\n",
       "</style>\n",
       "<table border=\"1\" class=\"dataframe\">\n",
       "  <thead>\n",
       "    <tr style=\"text-align: right;\">\n",
       "      <th></th>\n",
       "      <th>loan_repaid</th>\n",
       "      <th>loan_status</th>\n",
       "    </tr>\n",
       "  </thead>\n",
       "  <tbody>\n",
       "    <tr>\n",
       "      <th>0</th>\n",
       "      <td>1</td>\n",
       "      <td>Fully Paid</td>\n",
       "    </tr>\n",
       "    <tr>\n",
       "      <th>1</th>\n",
       "      <td>1</td>\n",
       "      <td>Fully Paid</td>\n",
       "    </tr>\n",
       "    <tr>\n",
       "      <th>2</th>\n",
       "      <td>1</td>\n",
       "      <td>Fully Paid</td>\n",
       "    </tr>\n",
       "    <tr>\n",
       "      <th>3</th>\n",
       "      <td>1</td>\n",
       "      <td>Fully Paid</td>\n",
       "    </tr>\n",
       "    <tr>\n",
       "      <th>4</th>\n",
       "      <td>0</td>\n",
       "      <td>Charged Off</td>\n",
       "    </tr>\n",
       "    <tr>\n",
       "      <th>...</th>\n",
       "      <td>...</td>\n",
       "      <td>...</td>\n",
       "    </tr>\n",
       "    <tr>\n",
       "      <th>396025</th>\n",
       "      <td>1</td>\n",
       "      <td>Fully Paid</td>\n",
       "    </tr>\n",
       "    <tr>\n",
       "      <th>396026</th>\n",
       "      <td>1</td>\n",
       "      <td>Fully Paid</td>\n",
       "    </tr>\n",
       "    <tr>\n",
       "      <th>396027</th>\n",
       "      <td>1</td>\n",
       "      <td>Fully Paid</td>\n",
       "    </tr>\n",
       "    <tr>\n",
       "      <th>396028</th>\n",
       "      <td>1</td>\n",
       "      <td>Fully Paid</td>\n",
       "    </tr>\n",
       "    <tr>\n",
       "      <th>396029</th>\n",
       "      <td>1</td>\n",
       "      <td>Fully Paid</td>\n",
       "    </tr>\n",
       "  </tbody>\n",
       "</table>\n",
       "<p>396030 rows × 2 columns</p>\n",
       "</div>"
      ],
      "text/plain": [
       "        loan_repaid  loan_status\n",
       "0                 1   Fully Paid\n",
       "1                 1   Fully Paid\n",
       "2                 1   Fully Paid\n",
       "3                 1   Fully Paid\n",
       "4                 0  Charged Off\n",
       "...             ...          ...\n",
       "396025            1   Fully Paid\n",
       "396026            1   Fully Paid\n",
       "396027            1   Fully Paid\n",
       "396028            1   Fully Paid\n",
       "396029            1   Fully Paid\n",
       "\n",
       "[396030 rows x 2 columns]"
      ]
     },
     "execution_count": 28,
     "metadata": {},
     "output_type": "execute_result"
    }
   ],
   "source": [
    "df['loan_repaid'] = df['loan_status'].map({'Fully Paid':1,'Charged Off':0})\n",
    "df[['loan_repaid','loan_status']]"
   ]
  },
  {
   "cell_type": "code",
   "execution_count": 29,
   "id": "e41396e8",
   "metadata": {},
   "outputs": [
    {
     "data": {
      "text/plain": [
       "<AxesSubplot:>"
      ]
     },
     "execution_count": 29,
     "metadata": {},
     "output_type": "execute_result"
    },
    {
     "data": {
      "image/png": "[encoded data removed]",
      "text/plain": [
       "<Figure size 432x288 with 1 Axes>"
      ]
     },
     "metadata": {
      "needs_background": "light"
     },
     "output_type": "display_data"
    }
   ],
   "source": [
    "df.corr()['loan_repaid'].sort_values().drop('loan_repaid').plot(kind='bar')"
   ]
  },
  {
   "cell_type": "code",
   "execution_count": 30,
   "id": "90cb1fb8",
   "metadata": {},
   "outputs": [
    {
     "data": {
      "text/plain": [
       "<AxesSubplot:>"
      ]
     },
     "execution_count": 30,
     "metadata": {},
     "output_type": "execute_result"
    },
    {
     "data": {
      "image/png": "[encoded data removed]",
      "text/plain": [
       "<Figure size 864x576 with 2 Axes>"
      ]
     },
     "metadata": {
      "needs_background": "light"
     },
     "output_type": "display_data"
    }
   ],
   "source": [
    "plt.figure(figsize = (12,8))\n",
    "sns.heatmap(df.corr(),annot = True,cmap = 'viridis')"
   ]
  },
  {
   "cell_type": "markdown",
   "id": "35f20047",
   "metadata": {},
   "source": [
    "<font color=black size=5 face=雅黑>**Data preprocessing**</font>"
   ]
  },
  {
   "cell_type": "code",
   "execution_count": 31,
   "id": "a16fae37",
   "metadata": {},
   "outputs": [
    {
     "data": {
      "text/html": [
       "<div>\n",
       "<style scoped>\n",
       "    .dataframe tbody tr th:only-of-type {\n",
       "        vertical-align: middle;\n",
       "    }\n",
       "\n",
       "    .dataframe tbody tr th {\n",
       "        vertical-align: top;\n",
       "    }\n",
       "\n",
       "    .dataframe thead th {\n",
       "        text-align: right;\n",
       "    }\n",
       "</style>\n",
       "<table border=\"1\" class=\"dataframe\">\n",
       "  <thead>\n",
       "    <tr style=\"text-align: right;\">\n",
       "      <th></th>\n",
       "      <th>0</th>\n",
       "      <th>1</th>\n",
       "      <th>2</th>\n",
       "      <th>3</th>\n",
       "      <th>4</th>\n",
       "    </tr>\n",
       "  </thead>\n",
       "  <tbody>\n",
       "    <tr>\n",
       "      <th>loan_amnt</th>\n",
       "      <td>10000.0</td>\n",
       "      <td>8000.0</td>\n",
       "      <td>15600.0</td>\n",
       "      <td>7200.0</td>\n",
       "      <td>24375.0</td>\n",
       "    </tr>\n",
       "    <tr>\n",
       "      <th>term</th>\n",
       "      <td>36 months</td>\n",
       "      <td>36 months</td>\n",
       "      <td>36 months</td>\n",
       "      <td>36 months</td>\n",
       "      <td>60 months</td>\n",
       "    </tr>\n",
       "    <tr>\n",
       "      <th>int_rate</th>\n",
       "      <td>11.44</td>\n",
       "      <td>11.99</td>\n",
       "      <td>10.49</td>\n",
       "      <td>6.49</td>\n",
       "      <td>17.27</td>\n",
       "    </tr>\n",
       "    <tr>\n",
       "      <th>installment</th>\n",
       "      <td>329.48</td>\n",
       "      <td>265.68</td>\n",
       "      <td>506.97</td>\n",
       "      <td>220.65</td>\n",
       "      <td>609.33</td>\n",
       "    </tr>\n",
       "    <tr>\n",
       "      <th>grade</th>\n",
       "      <td>B</td>\n",
       "      <td>B</td>\n",
       "      <td>B</td>\n",
       "      <td>A</td>\n",
       "      <td>C</td>\n",
       "    </tr>\n",
       "    <tr>\n",
       "      <th>sub_grade</th>\n",
       "      <td>B4</td>\n",
       "      <td>B5</td>\n",
       "      <td>B3</td>\n",
       "      <td>A2</td>\n",
       "      <td>C5</td>\n",
       "    </tr>\n",
       "    <tr>\n",
       "      <th>emp_title</th>\n",
       "      <td>Marketing</td>\n",
       "      <td>Credit analyst</td>\n",
       "      <td>Statistician</td>\n",
       "      <td>Client Advocate</td>\n",
       "      <td>Destiny Management Inc.</td>\n",
       "    </tr>\n",
       "    <tr>\n",
       "      <th>emp_length</th>\n",
       "      <td>10+ years</td>\n",
       "      <td>4 years</td>\n",
       "      <td>&lt; 1 year</td>\n",
       "      <td>6 years</td>\n",
       "      <td>9 years</td>\n",
       "    </tr>\n",
       "    <tr>\n",
       "      <th>home_ownership</th>\n",
       "      <td>RENT</td>\n",
       "      <td>MORTGAGE</td>\n",
       "      <td>RENT</td>\n",
       "      <td>RENT</td>\n",
       "      <td>MORTGAGE</td>\n",
       "    </tr>\n",
       "    <tr>\n",
       "      <th>annual_inc</th>\n",
       "      <td>117000.0</td>\n",
       "      <td>65000.0</td>\n",
       "      <td>43057.0</td>\n",
       "      <td>54000.0</td>\n",
       "      <td>55000.0</td>\n",
       "    </tr>\n",
       "    <tr>\n",
       "      <th>verification_status</th>\n",
       "      <td>Not Verified</td>\n",
       "      <td>Not Verified</td>\n",
       "      <td>Source Verified</td>\n",
       "      <td>Not Verified</td>\n",
       "      <td>Verified</td>\n",
       "    </tr>\n",
       "    <tr>\n",
       "      <th>issue_d</th>\n",
       "      <td>Jan-2015</td>\n",
       "      <td>Jan-2015</td>\n",
       "      <td>Jan-2015</td>\n",
       "      <td>Nov-2014</td>\n",
       "      <td>Apr-2013</td>\n",
       "    </tr>\n",
       "    <tr>\n",
       "      <th>loan_status</th>\n",
       "      <td>Fully Paid</td>\n",
       "      <td>Fully Paid</td>\n",
       "      <td>Fully Paid</td>\n",
       "      <td>Fully Paid</td>\n",
       "      <td>Charged Off</td>\n",
       "    </tr>\n",
       "    <tr>\n",
       "      <th>purpose</th>\n",
       "      <td>vacation</td>\n",
       "      <td>debt_consolidation</td>\n",
       "      <td>credit_card</td>\n",
       "      <td>credit_card</td>\n",
       "      <td>credit_card</td>\n",
       "    </tr>\n",
       "    <tr>\n",
       "      <th>title</th>\n",
       "      <td>Vacation</td>\n",
       "      <td>Debt consolidation</td>\n",
       "      <td>Credit card refinancing</td>\n",
       "      <td>Credit card refinancing</td>\n",
       "      <td>Credit Card Refinance</td>\n",
       "    </tr>\n",
       "    <tr>\n",
       "      <th>dti</th>\n",
       "      <td>26.24</td>\n",
       "      <td>22.05</td>\n",
       "      <td>12.79</td>\n",
       "      <td>2.6</td>\n",
       "      <td>33.95</td>\n",
       "    </tr>\n",
       "    <tr>\n",
       "      <th>earliest_cr_line</th>\n",
       "      <td>Jun-1990</td>\n",
       "      <td>Jul-2004</td>\n",
       "      <td>Aug-2007</td>\n",
       "      <td>Sep-2006</td>\n",
       "      <td>Mar-1999</td>\n",
       "    </tr>\n",
       "    <tr>\n",
       "      <th>open_acc</th>\n",
       "      <td>16.0</td>\n",
       "      <td>17.0</td>\n",
       "      <td>13.0</td>\n",
       "      <td>6.0</td>\n",
       "      <td>13.0</td>\n",
       "    </tr>\n",
       "    <tr>\n",
       "      <th>pub_rec</th>\n",
       "      <td>0.0</td>\n",
       "      <td>0.0</td>\n",
       "      <td>0.0</td>\n",
       "      <td>0.0</td>\n",
       "      <td>0.0</td>\n",
       "    </tr>\n",
       "    <tr>\n",
       "      <th>revol_bal</th>\n",
       "      <td>36369.0</td>\n",
       "      <td>20131.0</td>\n",
       "      <td>11987.0</td>\n",
       "      <td>5472.0</td>\n",
       "      <td>24584.0</td>\n",
       "    </tr>\n",
       "    <tr>\n",
       "      <th>revol_util</th>\n",
       "      <td>41.8</td>\n",
       "      <td>53.3</td>\n",
       "      <td>92.2</td>\n",
       "      <td>21.5</td>\n",
       "      <td>69.8</td>\n",
       "    </tr>\n",
       "    <tr>\n",
       "      <th>total_acc</th>\n",
       "      <td>25.0</td>\n",
       "      <td>27.0</td>\n",
       "      <td>26.0</td>\n",
       "      <td>13.0</td>\n",
       "      <td>43.0</td>\n",
       "    </tr>\n",
       "    <tr>\n",
       "      <th>initial_list_status</th>\n",
       "      <td>w</td>\n",
       "      <td>f</td>\n",
       "      <td>f</td>\n",
       "      <td>f</td>\n",
       "      <td>f</td>\n",
       "    </tr>\n",
       "    <tr>\n",
       "      <th>application_type</th>\n",
       "      <td>INDIVIDUAL</td>\n",
       "      <td>INDIVIDUAL</td>\n",
       "      <td>INDIVIDUAL</td>\n",
       "      <td>INDIVIDUAL</td>\n",
       "      <td>INDIVIDUAL</td>\n",
       "    </tr>\n",
       "    <tr>\n",
       "      <th>mort_acc</th>\n",
       "      <td>0.0</td>\n",
       "      <td>3.0</td>\n",
       "      <td>0.0</td>\n",
       "      <td>0.0</td>\n",
       "      <td>1.0</td>\n",
       "    </tr>\n",
       "    <tr>\n",
       "      <th>pub_rec_bankruptcies</th>\n",
       "      <td>0.0</td>\n",
       "      <td>0.0</td>\n",
       "      <td>0.0</td>\n",
       "      <td>0.0</td>\n",
       "      <td>0.0</td>\n",
       "    </tr>\n",
       "    <tr>\n",
       "      <th>address</th>\n",
       "      <td>0174 Michelle Gateway\\nMendozaberg, OK 22690</td>\n",
       "      <td>1076 Carney Fort Apt. 347\\nLoganmouth, SD 05113</td>\n",
       "      <td>87025 Mark Dale Apt. 269\\nNew Sabrina, WV 05113</td>\n",
       "      <td>823 Reid Ford\\nDelacruzside, MA 00813</td>\n",
       "      <td>679 Luna Roads\\nGreggshire, VA 11650</td>\n",
       "    </tr>\n",
       "    <tr>\n",
       "      <th>loan_repaid</th>\n",
       "      <td>1</td>\n",
       "      <td>1</td>\n",
       "      <td>1</td>\n",
       "      <td>1</td>\n",
       "      <td>0</td>\n",
       "    </tr>\n",
       "  </tbody>\n",
       "</table>\n",
       "</div>"
      ],
      "text/plain": [
       "                                                                 0  \\\n",
       "loan_amnt                                                  10000.0   \n",
       "term                                                     36 months   \n",
       "int_rate                                                     11.44   \n",
       "installment                                                 329.48   \n",
       "grade                                                            B   \n",
       "sub_grade                                                       B4   \n",
       "emp_title                                                Marketing   \n",
       "emp_length                                               10+ years   \n",
       "home_ownership                                                RENT   \n",
       "annual_inc                                                117000.0   \n",
       "verification_status                                   Not Verified   \n",
       "issue_d                                                   Jan-2015   \n",
       "loan_status                                             Fully Paid   \n",
       "purpose                                                   vacation   \n",
       "title                                                     Vacation   \n",
       "dti                                                          26.24   \n",
       "earliest_cr_line                                          Jun-1990   \n",
       "open_acc                                                      16.0   \n",
       "pub_rec                                                        0.0   \n",
       "revol_bal                                                  36369.0   \n",
       "revol_util                                                    41.8   \n",
       "total_acc                                                     25.0   \n",
       "initial_list_status                                              w   \n",
       "application_type                                        INDIVIDUAL   \n",
       "mort_acc                                                       0.0   \n",
       "pub_rec_bankruptcies                                           0.0   \n",
       "address               0174 Michelle Gateway\\nMendozaberg, OK 22690   \n",
       "loan_repaid                                                      1   \n",
       "\n",
       "                                                                    1  \\\n",
       "loan_amnt                                                      8000.0   \n",
       "term                                                        36 months   \n",
       "int_rate                                                        11.99   \n",
       "installment                                                    265.68   \n",
       "grade                                                               B   \n",
       "sub_grade                                                          B5   \n",
       "emp_title                                             Credit analyst    \n",
       "emp_length                                                    4 years   \n",
       "home_ownership                                               MORTGAGE   \n",
       "annual_inc                                                    65000.0   \n",
       "verification_status                                      Not Verified   \n",
       "issue_d                                                      Jan-2015   \n",
       "loan_status                                                Fully Paid   \n",
       "purpose                                            debt_consolidation   \n",
       "title                                              Debt consolidation   \n",
       "dti                                                             22.05   \n",
       "earliest_cr_line                                             Jul-2004   \n",
       "open_acc                                                         17.0   \n",
       "pub_rec                                                           0.0   \n",
       "revol_bal                                                     20131.0   \n",
       "revol_util                                                       53.3   \n",
       "total_acc                                                        27.0   \n",
       "initial_list_status                                                 f   \n",
       "application_type                                           INDIVIDUAL   \n",
       "mort_acc                                                          3.0   \n",
       "pub_rec_bankruptcies                                              0.0   \n",
       "address               1076 Carney Fort Apt. 347\\nLoganmouth, SD 05113   \n",
       "loan_repaid                                                         1   \n",
       "\n",
       "                                                                    2  \\\n",
       "loan_amnt                                                     15600.0   \n",
       "term                                                        36 months   \n",
       "int_rate                                                        10.49   \n",
       "installment                                                    506.97   \n",
       "grade                                                               B   \n",
       "sub_grade                                                          B3   \n",
       "emp_title                                                Statistician   \n",
       "emp_length                                                   < 1 year   \n",
       "home_ownership                                                   RENT   \n",
       "annual_inc                                                    43057.0   \n",
       "verification_status                                   Source Verified   \n",
       "issue_d                                                      Jan-2015   \n",
       "loan_status                                                Fully Paid   \n",
       "purpose                                                   credit_card   \n",
       "title                                         Credit card refinancing   \n",
       "dti                                                             12.79   \n",
       "earliest_cr_line                                             Aug-2007   \n",
       "open_acc                                                         13.0   \n",
       "pub_rec                                                           0.0   \n",
       "revol_bal                                                     11987.0   \n",
       "revol_util                                                       92.2   \n",
       "total_acc                                                        26.0   \n",
       "initial_list_status                                                 f   \n",
       "application_type                                           INDIVIDUAL   \n",
       "mort_acc                                                          0.0   \n",
       "pub_rec_bankruptcies                                              0.0   \n",
       "address               87025 Mark Dale Apt. 269\\nNew Sabrina, WV 05113   \n",
       "loan_repaid                                                         1   \n",
       "\n",
       "                                                          3  \\\n",
       "loan_amnt                                            7200.0   \n",
       "term                                              36 months   \n",
       "int_rate                                               6.49   \n",
       "installment                                          220.65   \n",
       "grade                                                     A   \n",
       "sub_grade                                                A2   \n",
       "emp_title                                   Client Advocate   \n",
       "emp_length                                          6 years   \n",
       "home_ownership                                         RENT   \n",
       "annual_inc                                          54000.0   \n",
       "verification_status                            Not Verified   \n",
       "issue_d                                            Nov-2014   \n",
       "loan_status                                      Fully Paid   \n",
       "purpose                                         credit_card   \n",
       "title                               Credit card refinancing   \n",
       "dti                                                     2.6   \n",
       "earliest_cr_line                                   Sep-2006   \n",
       "open_acc                                                6.0   \n",
       "pub_rec                                                 0.0   \n",
       "revol_bal                                            5472.0   \n",
       "revol_util                                             21.5   \n",
       "total_acc                                              13.0   \n",
       "initial_list_status                                       f   \n",
       "application_type                                 INDIVIDUAL   \n",
       "mort_acc                                                0.0   \n",
       "pub_rec_bankruptcies                                    0.0   \n",
       "address               823 Reid Ford\\nDelacruzside, MA 00813   \n",
       "loan_repaid                                               1   \n",
       "\n",
       "                                                         4  \n",
       "loan_amnt                                          24375.0  \n",
       "term                                             60 months  \n",
       "int_rate                                             17.27  \n",
       "installment                                         609.33  \n",
       "grade                                                    C  \n",
       "sub_grade                                               C5  \n",
       "emp_title                          Destiny Management Inc.  \n",
       "emp_length                                         9 years  \n",
       "home_ownership                                    MORTGAGE  \n",
       "annual_inc                                         55000.0  \n",
       "verification_status                               Verified  \n",
       "issue_d                                           Apr-2013  \n",
       "loan_status                                    Charged Off  \n",
       "purpose                                        credit_card  \n",
       "title                                Credit Card Refinance  \n",
       "dti                                                  33.95  \n",
       "earliest_cr_line                                  Mar-1999  \n",
       "open_acc                                              13.0  \n",
       "pub_rec                                                0.0  \n",
       "revol_bal                                          24584.0  \n",
       "revol_util                                            69.8  \n",
       "total_acc                                             43.0  \n",
       "initial_list_status                                      f  \n",
       "application_type                                INDIVIDUAL  \n",
       "mort_acc                                               1.0  \n",
       "pub_rec_bankruptcies                                   0.0  \n",
       "address               679 Luna Roads\\nGreggshire, VA 11650  \n",
       "loan_repaid                                              0  "
      ]
     },
     "execution_count": 31,
     "metadata": {},
     "output_type": "execute_result"
    }
   ],
   "source": [
    "df.head().transpose()"
   ]
  },
  {
   "cell_type": "code",
   "execution_count": 32,
   "id": "72fdcb72",
   "metadata": {},
   "outputs": [
    {
     "data": {
      "text/plain": [
       "396030"
      ]
     },
     "execution_count": 32,
     "metadata": {},
     "output_type": "execute_result"
    }
   ],
   "source": [
    "len(df)"
   ]
  },
  {
   "cell_type": "code",
   "execution_count": 33,
   "id": "7f2e558c",
   "metadata": {},
   "outputs": [
    {
     "data": {
      "text/plain": [
       "loan_amnt                   0\n",
       "term                        0\n",
       "int_rate                    0\n",
       "installment                 0\n",
       "grade                       0\n",
       "sub_grade                   0\n",
       "emp_title               22927\n",
       "emp_length              18301\n",
       "home_ownership              0\n",
       "annual_inc                  0\n",
       "verification_status         0\n",
       "issue_d                     0\n",
       "loan_status                 0\n",
       "purpose                     0\n",
       "title                    1755\n",
       "dti                         0\n",
       "earliest_cr_line            0\n",
       "open_acc                    0\n",
       "pub_rec                     0\n",
       "revol_bal                   0\n",
       "revol_util                276\n",
       "total_acc                   0\n",
       "initial_list_status         0\n",
       "application_type            0\n",
       "mort_acc                37795\n",
       "pub_rec_bankruptcies      535\n",
       "address                     0\n",
       "loan_repaid                 0\n",
       "dtype: int64"
      ]
     },
     "execution_count": 33,
     "metadata": {},
     "output_type": "execute_result"
    }
   ],
   "source": [
    "df.isnull().sum()"
   ]
  },
  {
   "cell_type": "code",
   "execution_count": 34,
   "id": "88f4cae5",
   "metadata": {},
   "outputs": [
    {
     "data": {
      "text/plain": [
       "loan_amnt               0.000000\n",
       "term                    0.000000\n",
       "int_rate                0.000000\n",
       "installment             0.000000\n",
       "grade                   0.000000\n",
       "sub_grade               0.000000\n",
       "emp_title               5.789208\n",
       "emp_length              4.621115\n",
       "home_ownership          0.000000\n",
       "annual_inc              0.000000\n",
       "verification_status     0.000000\n",
       "issue_d                 0.000000\n",
       "loan_status             0.000000\n",
       "purpose                 0.000000\n",
       "title                   0.443148\n",
       "dti                     0.000000\n",
       "earliest_cr_line        0.000000\n",
       "open_acc                0.000000\n",
       "pub_rec                 0.000000\n",
       "revol_bal               0.000000\n",
       "revol_util              0.069692\n",
       "total_acc               0.000000\n",
       "initial_list_status     0.000000\n",
       "application_type        0.000000\n",
       "mort_acc                9.543469\n",
       "pub_rec_bankruptcies    0.135091\n",
       "address                 0.000000\n",
       "loan_repaid             0.000000\n",
       "dtype: float64"
      ]
     },
     "execution_count": 34,
     "metadata": {},
     "output_type": "execute_result"
    }
   ],
   "source": [
    "100*df.isnull().sum()/len(df)"
   ]
  },
  {
   "cell_type": "code",
   "execution_count": 35,
   "id": "25c5cb14",
   "metadata": {},
   "outputs": [
    {
     "name": "stdout",
     "output_type": "stream",
     "text": [
      "The job title supplied by the Borrower when applying for the loan.*\n"
     ]
    }
   ],
   "source": [
    "feat_info('emp_title')"
   ]
  },
  {
   "cell_type": "code",
   "execution_count": 36,
   "id": "73be49b6",
   "metadata": {},
   "outputs": [
    {
     "data": {
      "text/plain": [
       "173105"
      ]
     },
     "execution_count": 36,
     "metadata": {},
     "output_type": "execute_result"
    }
   ],
   "source": [
    "df['emp_title'].nunique()"
   ]
  },
  {
   "cell_type": "code",
   "execution_count": 37,
   "id": "2d597fe8",
   "metadata": {},
   "outputs": [
    {
     "data": {
      "text/plain": [
       "Teacher                     4389\n",
       "Manager                     4250\n",
       "Registered Nurse            1856\n",
       "RN                          1846\n",
       "Supervisor                  1830\n",
       "                            ... \n",
       "Office manage                  1\n",
       "Artinian Inc                   1\n",
       "DUNNS AUTOS                    1\n",
       "Royal American                 1\n",
       " Certified Dialysis Tech       1\n",
       "Name: emp_title, Length: 173105, dtype: int64"
      ]
     },
     "execution_count": 37,
     "metadata": {},
     "output_type": "execute_result"
    }
   ],
   "source": [
    "df['emp_title'].value_counts()"
   ]
  },
  {
   "cell_type": "code",
   "execution_count": 38,
   "id": "21601348",
   "metadata": {},
   "outputs": [],
   "source": [
    "#drop the emp title feature since there is 173105 unique. \n",
    "#we can group them by hige ,mid,low income\n",
    "df = df.drop('emp_title',axis=1)"
   ]
  },
  {
   "cell_type": "code",
   "execution_count": 39,
   "id": "10748fb6",
   "metadata": {},
   "outputs": [
    {
     "data": {
      "text/plain": [
       "['1 year',\n",
       " '10+ years',\n",
       " '2 years',\n",
       " '3 years',\n",
       " '4 years',\n",
       " '5 years',\n",
       " '6 years',\n",
       " '7 years',\n",
       " '8 years',\n",
       " '9 years',\n",
       " '< 1 year']"
      ]
     },
     "execution_count": 39,
     "metadata": {},
     "output_type": "execute_result"
    }
   ],
   "source": [
    "sorted(df['emp_length'].dropna().unique())"
   ]
  },
  {
   "cell_type": "code",
   "execution_count": 40,
   "id": "f39f2868",
   "metadata": {},
   "outputs": [],
   "source": [
    "emp_length_order = ['< 1 year',\n",
    " '1 year',\n",
    " '2 years',\n",
    " '3 years',\n",
    " '4 years',\n",
    " '5 years',\n",
    " '6 years',\n",
    " '7 years',\n",
    " '8 years',\n",
    " '9 years',\n",
    " '10+ years'\n",
    " ]"
   ]
  },
  {
   "cell_type": "code",
   "execution_count": 41,
   "id": "f12c9f4a",
   "metadata": {},
   "outputs": [
    {
     "data": {
      "text/plain": [
       "<AxesSubplot:xlabel='emp_length', ylabel='count'>"
      ]
     },
     "execution_count": 41,
     "metadata": {},
     "output_type": "execute_result"
    },
    {
     "data": {
      "image/png": "[encoded data removed]",
      "text/plain": [
       "<Figure size 864x360 with 1 Axes>"
      ]
     },
     "metadata": {
      "needs_background": "light"
     },
     "output_type": "display_data"
    }
   ],
   "source": [
    "plt.figure(figsize=(12,5))\n",
    "sns.countplot(x='emp_length',data= df, order=emp_length_order,hue='loan_status')"
   ]
  },
  {
   "cell_type": "code",
   "execution_count": 42,
   "id": "13817889",
   "metadata": {},
   "outputs": [],
   "source": [
    "emp_co = df[df['loan_status']=='Charged Off'].groupby('emp_length').count()['loan_status']"
   ]
  },
  {
   "cell_type": "code",
   "execution_count": 43,
   "id": "0ca85184",
   "metadata": {},
   "outputs": [],
   "source": [
    "emp_fp=df[df['loan_status']=='Fully Paid'].groupby('emp_length').count()['loan_status']"
   ]
  },
  {
   "cell_type": "code",
   "execution_count": 44,
   "id": "bfbd8370",
   "metadata": {},
   "outputs": [
    {
     "data": {
      "text/plain": [
       "emp_length\n",
       "1 year       0.248649\n",
       "10+ years    0.225770\n",
       "2 years      0.239560\n",
       "3 years      0.242593\n",
       "4 years      0.238213\n",
       "5 years      0.237911\n",
       "6 years      0.233341\n",
       "7 years      0.241887\n",
       "8 years      0.249625\n",
       "9 years      0.250735\n",
       "< 1 year     0.260830\n",
       "Name: loan_status, dtype: float64"
      ]
     },
     "execution_count": 44,
     "metadata": {},
     "output_type": "execute_result"
    }
   ],
   "source": [
    "emp_co/emp_fp"
   ]
  },
  {
   "cell_type": "code",
   "execution_count": 45,
   "id": "d63db407",
   "metadata": {},
   "outputs": [],
   "source": [
    "emp_year_ratio=emp_co/(emp_fp+emp_co)"
   ]
  },
  {
   "cell_type": "code",
   "execution_count": 46,
   "id": "dcedacaa",
   "metadata": {},
   "outputs": [
    {
     "data": {
      "text/plain": [
       "<AxesSubplot:xlabel='emp_length'>"
      ]
     },
     "execution_count": 46,
     "metadata": {},
     "output_type": "execute_result"
    },
    {
     "data": {
      "image/png": "[encoded data removed]",
      "text/plain": [
       "<Figure size 432x288 with 1 Axes>"
      ]
     },
     "metadata": {
      "needs_background": "light"
     },
     "output_type": "display_data"
    }
   ],
   "source": [
    "emp_year_ratio.plot(kind='bar')"
   ]
  },
  {
   "cell_type": "code",
   "execution_count": 47,
   "id": "a87c6642",
   "metadata": {},
   "outputs": [],
   "source": [
    "#since there is no significant different between the emp_length\n",
    "df = df.drop('emp_length',axis=1)"
   ]
  },
  {
   "cell_type": "code",
   "execution_count": 48,
   "id": "c2d1f6d3",
   "metadata": {},
   "outputs": [
    {
     "data": {
      "text/plain": [
       "loan_amnt                   0\n",
       "term                        0\n",
       "int_rate                    0\n",
       "installment                 0\n",
       "grade                       0\n",
       "sub_grade                   0\n",
       "home_ownership              0\n",
       "annual_inc                  0\n",
       "verification_status         0\n",
       "issue_d                     0\n",
       "loan_status                 0\n",
       "purpose                     0\n",
       "title                    1755\n",
       "dti                         0\n",
       "earliest_cr_line            0\n",
       "open_acc                    0\n",
       "pub_rec                     0\n",
       "revol_bal                   0\n",
       "revol_util                276\n",
       "total_acc                   0\n",
       "initial_list_status         0\n",
       "application_type            0\n",
       "mort_acc                37795\n",
       "pub_rec_bankruptcies      535\n",
       "address                     0\n",
       "loan_repaid                 0\n",
       "dtype: int64"
      ]
     },
     "execution_count": 48,
     "metadata": {},
     "output_type": "execute_result"
    }
   ],
   "source": [
    "df.isnull().sum()"
   ]
  },
  {
   "cell_type": "code",
   "execution_count": 49,
   "id": "e2ea7faf",
   "metadata": {},
   "outputs": [
    {
     "data": {
      "text/plain": [
       "0                   vacation\n",
       "1         debt_consolidation\n",
       "2                credit_card\n",
       "3                credit_card\n",
       "4                credit_card\n",
       "                 ...        \n",
       "396025    debt_consolidation\n",
       "396026    debt_consolidation\n",
       "396027    debt_consolidation\n",
       "396028    debt_consolidation\n",
       "396029    debt_consolidation\n",
       "Name: purpose, Length: 396030, dtype: object"
      ]
     },
     "execution_count": 49,
     "metadata": {},
     "output_type": "execute_result"
    }
   ],
   "source": [
    "df['purpose']"
   ]
  },
  {
   "cell_type": "code",
   "execution_count": 50,
   "id": "8766f5f4",
   "metadata": {},
   "outputs": [
    {
     "name": "stdout",
     "output_type": "stream",
     "text": [
      "A category provided by the borrower for the loan request. \n"
     ]
    }
   ],
   "source": [
    "feat_info('purpose')"
   ]
  },
  {
   "cell_type": "code",
   "execution_count": 51,
   "id": "a58e823c",
   "metadata": {},
   "outputs": [
    {
     "name": "stdout",
     "output_type": "stream",
     "text": [
      "The loan title provided by the borrower\n"
     ]
    }
   ],
   "source": [
    "feat_info('title')"
   ]
  },
  {
   "cell_type": "code",
   "execution_count": 52,
   "id": "841828f0",
   "metadata": {},
   "outputs": [
    {
     "data": {
      "text/plain": [
       "0                        Vacation\n",
       "1              Debt consolidation\n",
       "2         Credit card refinancing\n",
       "3         Credit card refinancing\n",
       "4           Credit Card Refinance\n",
       "                   ...           \n",
       "396025         Debt consolidation\n",
       "396026         Debt consolidation\n",
       "396027       pay off credit cards\n",
       "396028              Loanforpayoff\n",
       "396029          Toxic Debt Payoff\n",
       "Name: title, Length: 396030, dtype: object"
      ]
     },
     "execution_count": 52,
     "metadata": {},
     "output_type": "execute_result"
    }
   ],
   "source": [
    "df['title']"
   ]
  },
  {
   "cell_type": "code",
   "execution_count": 53,
   "id": "ca5ac2cc",
   "metadata": {},
   "outputs": [],
   "source": [
    "#title are same to the purpose\n",
    "df = df.drop('title',axis=1)"
   ]
  },
  {
   "cell_type": "code",
   "execution_count": 54,
   "id": "89b62ae2",
   "metadata": {},
   "outputs": [
    {
     "name": "stdout",
     "output_type": "stream",
     "text": [
      "Number of mortgage accounts.\n"
     ]
    }
   ],
   "source": [
    "feat_info('mort_acc')"
   ]
  },
  {
   "cell_type": "code",
   "execution_count": 55,
   "id": "ae854a76",
   "metadata": {},
   "outputs": [
    {
     "data": {
      "text/plain": [
       "0.0     139777\n",
       "1.0      60416\n",
       "2.0      49948\n",
       "3.0      38049\n",
       "4.0      27887\n",
       "5.0      18194\n",
       "6.0      11069\n",
       "7.0       6052\n",
       "8.0       3121\n",
       "9.0       1656\n",
       "10.0       865\n",
       "11.0       479\n",
       "12.0       264\n",
       "13.0       146\n",
       "14.0       107\n",
       "15.0        61\n",
       "16.0        37\n",
       "17.0        22\n",
       "18.0        18\n",
       "19.0        15\n",
       "20.0        13\n",
       "24.0        10\n",
       "22.0         7\n",
       "21.0         4\n",
       "25.0         4\n",
       "27.0         3\n",
       "23.0         2\n",
       "31.0         2\n",
       "26.0         2\n",
       "32.0         2\n",
       "28.0         1\n",
       "34.0         1\n",
       "30.0         1\n",
       "Name: mort_acc, dtype: int64"
      ]
     },
     "execution_count": 55,
     "metadata": {},
     "output_type": "execute_result"
    }
   ],
   "source": [
    "df['mort_acc'].value_counts()"
   ]
  },
  {
   "cell_type": "code",
   "execution_count": 56,
   "id": "debc0a2c",
   "metadata": {},
   "outputs": [
    {
     "data": {
      "text/plain": [
       "int_rate               -0.082583\n",
       "dti                    -0.025439\n",
       "revol_util              0.007514\n",
       "pub_rec                 0.011552\n",
       "pub_rec_bankruptcies    0.027239\n",
       "loan_repaid             0.073111\n",
       "open_acc                0.109205\n",
       "installment             0.193694\n",
       "revol_bal               0.194925\n",
       "loan_amnt               0.222315\n",
       "annual_inc              0.236320\n",
       "total_acc               0.381072\n",
       "mort_acc                1.000000\n",
       "Name: mort_acc, dtype: float64"
      ]
     },
     "execution_count": 56,
     "metadata": {},
     "output_type": "execute_result"
    }
   ],
   "source": [
    "df.corr()['mort_acc'].sort_values()"
   ]
  },
  {
   "cell_type": "code",
   "execution_count": 57,
   "id": "b0f92eef",
   "metadata": {},
   "outputs": [
    {
     "data": {
      "text/plain": [
       "total_acc\n",
       "2.0      0.000000\n",
       "3.0      0.052023\n",
       "4.0      0.066743\n",
       "5.0      0.103289\n",
       "6.0      0.151293\n",
       "           ...   \n",
       "124.0    1.000000\n",
       "129.0    1.000000\n",
       "135.0    3.000000\n",
       "150.0    2.000000\n",
       "151.0    0.000000\n",
       "Name: mort_acc, Length: 118, dtype: float64"
      ]
     },
     "execution_count": 57,
     "metadata": {},
     "output_type": "execute_result"
    }
   ],
   "source": [
    "df.groupby('total_acc').mean()['mort_acc']"
   ]
  },
  {
   "cell_type": "code",
   "execution_count": 58,
   "id": "bdc88feb",
   "metadata": {},
   "outputs": [],
   "source": [
    "total_acc_avg = df.groupby('total_acc').mean()['mort_acc']"
   ]
  },
  {
   "cell_type": "code",
   "execution_count": 59,
   "id": "69ab6ef6",
   "metadata": {},
   "outputs": [],
   "source": [
    "def fill_mortacc(total_acc,mort_acc):\n",
    "    if np.isnan(mort_acc):\n",
    "        return total_acc_avg[total_acc]\n",
    "    else:\n",
    "        return mort_acc\n",
    "    "
   ]
  },
  {
   "cell_type": "code",
   "execution_count": 60,
   "id": "edd94abc",
   "metadata": {},
   "outputs": [],
   "source": [
    "df['mort_acc']=df.apply(lambda x :fill_mortacc(x['total_acc'],x['mort_acc']),axis=1)"
   ]
  },
  {
   "cell_type": "code",
   "execution_count": 61,
   "id": "f39ae6a8",
   "metadata": {},
   "outputs": [],
   "source": [
    "df = df.dropna()"
   ]
  },
  {
   "cell_type": "code",
   "execution_count": 62,
   "id": "46d72cfd",
   "metadata": {},
   "outputs": [
    {
     "data": {
      "text/plain": [
       "loan_amnt               0\n",
       "term                    0\n",
       "int_rate                0\n",
       "installment             0\n",
       "grade                   0\n",
       "sub_grade               0\n",
       "home_ownership          0\n",
       "annual_inc              0\n",
       "verification_status     0\n",
       "issue_d                 0\n",
       "loan_status             0\n",
       "purpose                 0\n",
       "dti                     0\n",
       "earliest_cr_line        0\n",
       "open_acc                0\n",
       "pub_rec                 0\n",
       "revol_bal               0\n",
       "revol_util              0\n",
       "total_acc               0\n",
       "initial_list_status     0\n",
       "application_type        0\n",
       "mort_acc                0\n",
       "pub_rec_bankruptcies    0\n",
       "address                 0\n",
       "loan_repaid             0\n",
       "dtype: int64"
      ]
     },
     "execution_count": 62,
     "metadata": {},
     "output_type": "execute_result"
    }
   ],
   "source": [
    "df.isnull().sum()"
   ]
  },
  {
   "cell_type": "markdown",
   "id": "13ecb5a4",
   "metadata": {},
   "source": [
    "<font color=black size=5 face=雅黑>**Categorical Variables**</font>"
   ]
  },
  {
   "cell_type": "code",
   "execution_count": 63,
   "id": "bafd6205",
   "metadata": {},
   "outputs": [
    {
     "data": {
      "text/plain": [
       "Index(['term', 'grade', 'sub_grade', 'home_ownership', 'verification_status',\n",
       "       'issue_d', 'loan_status', 'purpose', 'earliest_cr_line',\n",
       "       'initial_list_status', 'application_type', 'address'],\n",
       "      dtype='object')"
      ]
     },
     "execution_count": 63,
     "metadata": {},
     "output_type": "execute_result"
    }
   ],
   "source": [
    "df.select_dtypes(['object']).columns"
   ]
  },
  {
   "cell_type": "code",
   "execution_count": 64,
   "id": "1ccb8395",
   "metadata": {},
   "outputs": [
    {
     "name": "stdout",
     "output_type": "stream",
     "text": [
      "The number of payments on the loan. Values are in months and can be either 36 or 60.\n"
     ]
    }
   ],
   "source": [
    "feat_info('term')"
   ]
  },
  {
   "cell_type": "code",
   "execution_count": 65,
   "id": "1fff01dc",
   "metadata": {},
   "outputs": [],
   "source": [
    "df['term']=df['term'].apply(lambda term: int(term[:3]))"
   ]
  },
  {
   "cell_type": "code",
   "execution_count": 66,
   "id": "8e7a30fe",
   "metadata": {},
   "outputs": [
    {
     "data": {
      "text/plain": [
       "36    301247\n",
       "60     93972\n",
       "Name: term, dtype: int64"
      ]
     },
     "execution_count": 66,
     "metadata": {},
     "output_type": "execute_result"
    }
   ],
   "source": [
    "df['term'].value_counts()"
   ]
  },
  {
   "cell_type": "code",
   "execution_count": 67,
   "id": "2c3044ef",
   "metadata": {},
   "outputs": [],
   "source": [
    "#since grade is similar to sub_grade\n",
    "df = df.drop('grade',axis=1)"
   ]
  },
  {
   "cell_type": "code",
   "execution_count": 68,
   "id": "0a92cb5b",
   "metadata": {},
   "outputs": [],
   "source": [
    "dummies = pd.get_dummies(df['sub_grade'],drop_first=True)\n",
    "df = pd.concat([df.drop('sub_grade',axis=1),dummies],axis=1)"
   ]
  },
  {
   "cell_type": "code",
   "execution_count": 69,
   "id": "34cb1511",
   "metadata": {},
   "outputs": [
    {
     "name": "stdout",
     "output_type": "stream",
     "text": [
      "Indicates if income was verified by LC, not verified, or if the income source was verified\n",
      "Indicates whether the loan is an individual application or a joint application with two co-borrowers\n",
      "The initial listing status of the loan. Possible values are – W, F\n",
      "A category provided by the borrower for the loan request. \n"
     ]
    }
   ],
   "source": [
    "feat_info('verification_status')\n",
    "feat_info('application_type')\n",
    "feat_info('initial_list_status')\n",
    "feat_info('purpose')"
   ]
  },
  {
   "cell_type": "code",
   "execution_count": 70,
   "id": "bde06e83",
   "metadata": {},
   "outputs": [],
   "source": [
    "dummies = pd.get_dummies(df[['verification_status','application_type','initial_list_status','purpose']],drop_first=True)\n",
    "df = pd.concat([df.drop(['verification_status','application_type','initial_list_status','purpose'],axis=1),dummies],axis=1)"
   ]
  },
  {
   "cell_type": "code",
   "execution_count": 71,
   "id": "59cfc77f",
   "metadata": {},
   "outputs": [
    {
     "data": {
      "text/plain": [
       "MORTGAGE    198022\n",
       "RENT        159395\n",
       "OWN          37660\n",
       "OTHER          110\n",
       "NONE            29\n",
       "ANY              3\n",
       "Name: home_ownership, dtype: int64"
      ]
     },
     "execution_count": 71,
     "metadata": {},
     "output_type": "execute_result"
    }
   ],
   "source": [
    "#we put NONE & ANY into OTHER\n",
    "df['home_ownership'].value_counts()"
   ]
  },
  {
   "cell_type": "code",
   "execution_count": 72,
   "id": "e97c60e8",
   "metadata": {},
   "outputs": [
    {
     "data": {
      "text/plain": [
       "MORTGAGE    198022\n",
       "RENT        159395\n",
       "OWN          37660\n",
       "OTHER          142\n",
       "Name: home_ownership, dtype: int64"
      ]
     },
     "execution_count": 72,
     "metadata": {},
     "output_type": "execute_result"
    }
   ],
   "source": [
    "df['home_ownership']=df['home_ownership'].replace(['NONE','ANY'],'OTHER')\n",
    "df['home_ownership'].value_counts()"
   ]
  },
  {
   "cell_type": "code",
   "execution_count": 73,
   "id": "6fcbc074",
   "metadata": {},
   "outputs": [],
   "source": [
    "dummies = pd.get_dummies(df['home_ownership'],drop_first=True)\n",
    "df = pd.concat([df.drop('home_ownership',axis=1),dummies],axis=1)"
   ]
  },
  {
   "cell_type": "code",
   "execution_count": 74,
   "id": "ec890a4b",
   "metadata": {},
   "outputs": [
    {
     "data": {
      "text/plain": [
       "0              0174 Michelle Gateway\\nMendozaberg, OK 22690\n",
       "1           1076 Carney Fort Apt. 347\\nLoganmouth, SD 05113\n",
       "2           87025 Mark Dale Apt. 269\\nNew Sabrina, WV 05113\n",
       "3                     823 Reid Ford\\nDelacruzside, MA 00813\n",
       "4                      679 Luna Roads\\nGreggshire, VA 11650\n",
       "                                ...                        \n",
       "396025       12951 Williams Crossing\\nJohnnyville, DC 30723\n",
       "396026    0114 Fowler Field Suite 028\\nRachelborough, LA...\n",
       "396027     953 Matthew Points Suite 414\\nReedfort, NY 70466\n",
       "396028    7843 Blake Freeway Apt. 229\\nNew Michael, FL 2...\n",
       "396029          787 Michelle Causeway\\nBriannaton, AR 48052\n",
       "Name: address, Length: 395219, dtype: object"
      ]
     },
     "execution_count": 74,
     "metadata": {},
     "output_type": "execute_result"
    }
   ],
   "source": [
    "df['address']"
   ]
  },
  {
   "cell_type": "code",
   "execution_count": 76,
   "id": "dcad0bf7",
   "metadata": {},
   "outputs": [],
   "source": [
    "df['zip_code'] = df['address'].apply(lambda address:address[-5:])"
   ]
  },
  {
   "cell_type": "code",
   "execution_count": 77,
   "id": "63248a21",
   "metadata": {},
   "outputs": [
    {
     "data": {
      "text/plain": [
       "70466    56880\n",
       "22690    56413\n",
       "30723    56402\n",
       "48052    55811\n",
       "00813    45725\n",
       "29597    45393\n",
       "05113    45300\n",
       "11650    11210\n",
       "93700    11126\n",
       "86630    10959\n",
       "Name: zip_code, dtype: int64"
      ]
     },
     "execution_count": 77,
     "metadata": {},
     "output_type": "execute_result"
    }
   ],
   "source": [
    "df['zip_code'].value_counts()"
   ]
  },
  {
   "cell_type": "code",
   "execution_count": 78,
   "id": "45984bbd",
   "metadata": {},
   "outputs": [],
   "source": [
    "dummies = pd.get_dummies(df['zip_code'],drop_first=True)\n",
    "df = pd.concat([df.drop('zip_code',axis=1),dummies],axis=1)"
   ]
  },
  {
   "cell_type": "code",
   "execution_count": 79,
   "id": "804b43bd",
   "metadata": {},
   "outputs": [],
   "source": [
    "df = df.drop('address',axis=1)"
   ]
  },
  {
   "cell_type": "code",
   "execution_count": 80,
   "id": "9b99e602",
   "metadata": {},
   "outputs": [
    {
     "name": "stdout",
     "output_type": "stream",
     "text": [
      "The month which the loan was funded\n"
     ]
    }
   ],
   "source": [
    "feat_info('issue_d')"
   ]
  },
  {
   "cell_type": "code",
   "execution_count": 81,
   "id": "55408ac9",
   "metadata": {},
   "outputs": [],
   "source": [
    "df = df.drop('issue_d',axis=1)"
   ]
  },
  {
   "cell_type": "code",
   "execution_count": 82,
   "id": "3f823945",
   "metadata": {},
   "outputs": [
    {
     "name": "stdout",
     "output_type": "stream",
     "text": [
      "The month the borrower's earliest reported credit line was opened\n"
     ]
    }
   ],
   "source": [
    "feat_info('earliest_cr_line')"
   ]
  },
  {
   "cell_type": "code",
   "execution_count": 84,
   "id": "ea4fd560",
   "metadata": {},
   "outputs": [
    {
     "data": {
      "text/plain": [
       "0         1990\n",
       "1         2004\n",
       "2         2007\n",
       "3         2006\n",
       "4         1999\n",
       "          ... \n",
       "396025    2004\n",
       "396026    2006\n",
       "396027    1997\n",
       "396028    1990\n",
       "396029    1998\n",
       "Name: earliest_cr_year, Length: 395219, dtype: int64"
      ]
     },
     "execution_count": 84,
     "metadata": {},
     "output_type": "execute_result"
    }
   ],
   "source": [
    "df['earliest_cr_year'] = df['earliest_cr_line'].apply(lambda date: int(date[-4:]))\n",
    "df['earliest_cr_year']"
   ]
  },
  {
   "cell_type": "code",
   "execution_count": 85,
   "id": "3172793c",
   "metadata": {},
   "outputs": [],
   "source": [
    "df = df.drop('earliest_cr_line',axis=1)"
   ]
  },
  {
   "cell_type": "markdown",
   "id": "bda680dd",
   "metadata": {},
   "source": [
    "<font color=black size=5 face=雅黑>**Train test split**</font>"
   ]
  },
  {
   "cell_type": "code",
   "execution_count": 86,
   "id": "03d91088",
   "metadata": {},
   "outputs": [],
   "source": [
    "from sklearn.model_selection import train_test_split"
   ]
  },
  {
   "cell_type": "code",
   "execution_count": 87,
   "id": "a2d5d400",
   "metadata": {},
   "outputs": [],
   "source": [
    "df = df.drop('loan_status',axis=1)"
   ]
  },
  {
   "cell_type": "code",
   "execution_count": 88,
   "id": "ad8876ab",
   "metadata": {},
   "outputs": [],
   "source": [
    "X = df.drop('loan_repaid',axis=1).values"
   ]
  },
  {
   "cell_type": "code",
   "execution_count": 89,
   "id": "dd6cc350",
   "metadata": {},
   "outputs": [],
   "source": [
    "y = df['loan_repaid'].values"
   ]
  },
  {
   "cell_type": "code",
   "execution_count": 90,
   "id": "c3962a55",
   "metadata": {},
   "outputs": [],
   "source": [
    "X_train, X_test, y_train, y_test = train_test_split(X, y, test_size=0.2, random_state=101)"
   ]
  },
  {
   "cell_type": "markdown",
   "id": "83122f2b",
   "metadata": {},
   "source": [
    "<font color=black size=5 face=雅黑>**Normalizing data**</font>"
   ]
  },
  {
   "cell_type": "code",
   "execution_count": 91,
   "id": "cd0d3896",
   "metadata": {},
   "outputs": [],
   "source": [
    "from sklearn.preprocessing import MinMaxScaler"
   ]
  },
  {
   "cell_type": "code",
   "execution_count": 92,
   "id": "64e6c1e3",
   "metadata": {},
   "outputs": [],
   "source": [
    "scaler = MinMaxScaler()"
   ]
  },
  {
   "cell_type": "code",
   "execution_count": 94,
   "id": "3423a898",
   "metadata": {},
   "outputs": [],
   "source": [
    "X_train = scaler.fit_transform(X_train)"
   ]
  },
  {
   "cell_type": "code",
   "execution_count": 95,
   "id": "0e3a9b59",
   "metadata": {},
   "outputs": [],
   "source": [
    "X_test = scaler.transform(X_test)"
   ]
  },
  {
   "cell_type": "markdown",
   "id": "d3ee4582",
   "metadata": {},
   "source": [
    "<font color=black size=5 face=雅黑>**Create the model**</font>"
   ]
  },
  {
   "cell_type": "code",
   "execution_count": 96,
   "id": "5dec5517",
   "metadata": {},
   "outputs": [],
   "source": [
    "import tensorflow as tf\n",
    "from tensorflow.keras.models import Sequential\n",
    "from tensorflow.keras.layers import Dense,Dropout"
   ]
  },
  {
   "cell_type": "code",
   "execution_count": 97,
   "id": "58c6da97",
   "metadata": {},
   "outputs": [
    {
     "data": {
      "text/plain": [
       "(316175, 78)"
      ]
     },
     "execution_count": 97,
     "metadata": {},
     "output_type": "execute_result"
    }
   ],
   "source": [
    "X_train.shape"
   ]
  },
  {
   "cell_type": "code",
   "execution_count": 118,
   "id": "c5e2e392",
   "metadata": {},
   "outputs": [],
   "source": [
    "model = Sequential()\n",
    "\n",
    "model.add(Dense(78,activation = 'relu'))\n",
    "model.add(Dropout(0.5))\n",
    "\n",
    "model.add(Dense(78,activation = 'relu'))\n",
    "model.add(Dropout(0.5))\n",
    "\n",
    "model.add(Dense(39,activation = 'relu'))\n",
    "model.add(Dropout(0.5))\n",
    "\n",
    "model.add(Dense(20,activation = 'relu'))\n",
    "model.add(Dropout(0.5))\n",
    "\n",
    "\n",
    "model.add(Dense(units=1,activation='sigmoid'))\n",
    "\n",
    "model.compile(loss='binary_crossentropy',optimizer='adam')"
   ]
  },
  {
   "cell_type": "code",
   "execution_count": 119,
   "id": "1288c445",
   "metadata": {},
   "outputs": [
    {
     "name": "stdout",
     "output_type": "stream",
     "text": [
      "Epoch 1/100\n",
      "1236/1236 [==============================] - 11s 7ms/step - loss: 0.3508 - val_loss: 0.2719\n",
      "Epoch 2/100\n",
      "1236/1236 [==============================] - 9s 7ms/step - loss: 0.2759 - val_loss: 0.2696\n",
      "Epoch 3/100\n",
      "1236/1236 [==============================] - 7s 6ms/step - loss: 0.2698 - val_loss: 0.2684\n",
      "Epoch 4/100\n",
      "1236/1236 [==============================] - 8s 6ms/step - loss: 0.2675 - val_loss: 0.2672\n",
      "Epoch 5/100\n",
      "1236/1236 [==============================] - 7s 6ms/step - loss: 0.2662 - val_loss: 0.2661\n",
      "Epoch 6/100\n",
      "1236/1236 [==============================] - 8s 6ms/step - loss: 0.2653 - val_loss: 0.2647\n",
      "Epoch 7/100\n",
      "1236/1236 [==============================] - 8s 6ms/step - loss: 0.2647 - val_loss: 0.2658\n",
      "Epoch 8/100\n",
      "1236/1236 [==============================] - 8s 6ms/step - loss: 0.2649 - val_loss: 0.2650\n",
      "Epoch 9/100\n",
      "1236/1236 [==============================] - 8s 6ms/step - loss: 0.2645 - val_loss: 0.2636\n",
      "Epoch 10/100\n",
      "1236/1236 [==============================] - 8s 6ms/step - loss: 0.2645 - val_loss: 0.2626\n",
      "Epoch 11/100\n",
      "1236/1236 [==============================] - 8s 6ms/step - loss: 0.2638 - val_loss: 0.2636\n",
      "Epoch 12/100\n",
      "1236/1236 [==============================] - 8s 6ms/step - loss: 0.2639 - val_loss: 0.2639\n",
      "Epoch 13/100\n",
      "1236/1236 [==============================] - 8s 6ms/step - loss: 0.2637 - val_loss: 0.2635\n",
      "Epoch 14/100\n",
      "1236/1236 [==============================] - 8s 6ms/step - loss: 0.2637 - val_loss: 0.2647\n",
      "Epoch 15/100\n",
      "1236/1236 [==============================] - 8s 6ms/step - loss: 0.2634 - val_loss: 0.2636\n",
      "Epoch 16/100\n",
      "1236/1236 [==============================] - 8s 6ms/step - loss: 0.2635 - val_loss: 0.2645\n",
      "Epoch 17/100\n",
      "1236/1236 [==============================] - 8s 6ms/step - loss: 0.2633 - val_loss: 0.2630\n",
      "Epoch 18/100\n",
      "1236/1236 [==============================] - 8s 6ms/step - loss: 0.2629 - val_loss: 0.2630\n",
      "Epoch 19/100\n",
      "1236/1236 [==============================] - 8s 6ms/step - loss: 0.2635 - val_loss: 0.2636\n",
      "Epoch 20/100\n",
      "1236/1236 [==============================] - 8s 6ms/step - loss: 0.2627 - val_loss: 0.2637\n",
      "Epoch 21/100\n",
      "1236/1236 [==============================] - 8s 6ms/step - loss: 0.2631 - val_loss: 0.2620\n",
      "Epoch 22/100\n",
      "1236/1236 [==============================] - 8s 6ms/step - loss: 0.2628 - val_loss: 0.2634\n",
      "Epoch 23/100\n",
      "1236/1236 [==============================] - 8s 6ms/step - loss: 0.2627 - val_loss: 0.2636\n",
      "Epoch 24/100\n",
      "1236/1236 [==============================] - 8s 6ms/step - loss: 0.2630 - val_loss: 0.2628\n",
      "Epoch 25/100\n",
      "1236/1236 [==============================] - 8s 6ms/step - loss: 0.2624 - val_loss: 0.2634\n",
      "Epoch 26/100\n",
      "1236/1236 [==============================] - 8s 6ms/step - loss: 0.2625 - val_loss: 0.2631\n",
      "Epoch 27/100\n",
      "1236/1236 [==============================] - 8s 6ms/step - loss: 0.2625 - val_loss: 0.2635\n",
      "Epoch 28/100\n",
      "1236/1236 [==============================] - 8s 6ms/step - loss: 0.2625 - val_loss: 0.2635\n",
      "Epoch 29/100\n",
      "1236/1236 [==============================] - 8s 6ms/step - loss: 0.2624 - val_loss: 0.2645\n",
      "Epoch 30/100\n",
      "1236/1236 [==============================] - 8s 6ms/step - loss: 0.2621 - val_loss: 0.2632\n",
      "Epoch 31/100\n",
      "1236/1236 [==============================] - 8s 6ms/step - loss: 0.2624 - val_loss: 0.2632\n",
      "Epoch 32/100\n",
      "1236/1236 [==============================] - 8s 6ms/step - loss: 0.2622 - val_loss: 0.2634\n",
      "Epoch 33/100\n",
      "1236/1236 [==============================] - 8s 6ms/step - loss: 0.2623 - val_loss: 0.2629\n",
      "Epoch 34/100\n",
      "1236/1236 [==============================] - 8s 6ms/step - loss: 0.2621 - val_loss: 0.2646\n",
      "Epoch 35/100\n",
      "1236/1236 [==============================] - 8s 6ms/step - loss: 0.2621 - val_loss: 0.2636\n",
      "Epoch 36/100\n",
      "1236/1236 [==============================] - 8s 6ms/step - loss: 0.2616 - val_loss: 0.2630\n",
      "Epoch 37/100\n",
      "1236/1236 [==============================] - 8s 6ms/step - loss: 0.2621 - val_loss: 0.2627\n",
      "Epoch 38/100\n",
      "1236/1236 [==============================] - 8s 6ms/step - loss: 0.2619 - val_loss: 0.2636\n",
      "Epoch 39/100\n",
      "1236/1236 [==============================] - 8s 6ms/step - loss: 0.2616 - val_loss: 0.2643\n",
      "Epoch 40/100\n",
      "1236/1236 [==============================] - 8s 6ms/step - loss: 0.2619 - val_loss: 0.2633\n",
      "Epoch 41/100\n",
      "1236/1236 [==============================] - 8s 6ms/step - loss: 0.2616 - val_loss: 0.2629\n",
      "Epoch 42/100\n",
      "1236/1236 [==============================] - 8s 6ms/step - loss: 0.2611 - val_loss: 0.2635\n",
      "Epoch 43/100\n",
      "1236/1236 [==============================] - 8s 6ms/step - loss: 0.2615 - val_loss: 0.2632\n",
      "Epoch 44/100\n",
      "1236/1236 [==============================] - 8s 6ms/step - loss: 0.2615 - val_loss: 0.2633\n",
      "Epoch 45/100\n",
      "1236/1236 [==============================] - 8s 6ms/step - loss: 0.2613 - val_loss: 0.2644\n",
      "Epoch 46/100\n",
      "1236/1236 [==============================] - 8s 6ms/step - loss: 0.2614 - val_loss: 0.2637\n",
      "Epoch 47/100\n",
      "1236/1236 [==============================] - 8s 6ms/step - loss: 0.2615 - val_loss: 0.2620\n",
      "Epoch 48/100\n",
      "1236/1236 [==============================] - 8s 6ms/step - loss: 0.2615 - val_loss: 0.2638\n",
      "Epoch 49/100\n",
      "1236/1236 [==============================] - 8s 6ms/step - loss: 0.2613 - val_loss: 0.2631\n",
      "Epoch 50/100\n",
      "1236/1236 [==============================] - 8s 6ms/step - loss: 0.2614 - val_loss: 0.2632\n",
      "Epoch 51/100\n",
      "1236/1236 [==============================] - 8s 6ms/step - loss: 0.2612 - val_loss: 0.2632\n",
      "Epoch 52/100\n",
      "1236/1236 [==============================] - 8s 6ms/step - loss: 0.2615 - val_loss: 0.2629\n",
      "Epoch 53/100\n",
      "1236/1236 [==============================] - 8s 6ms/step - loss: 0.2614 - val_loss: 0.2630\n",
      "Epoch 54/100\n",
      "1236/1236 [==============================] - 8s 6ms/step - loss: 0.2609 - val_loss: 0.2624\n",
      "Epoch 55/100\n",
      "1236/1236 [==============================] - 8s 6ms/step - loss: 0.2609 - val_loss: 0.2635\n",
      "Epoch 56/100\n",
      "1236/1236 [==============================] - 8s 6ms/step - loss: 0.2608 - val_loss: 0.2628\n",
      "Epoch 57/100\n",
      "1236/1236 [==============================] - 8s 6ms/step - loss: 0.2610 - val_loss: 0.2632\n",
      "Epoch 58/100\n",
      "1236/1236 [==============================] - 8s 6ms/step - loss: 0.2609 - val_loss: 0.2628\n",
      "Epoch 59/100\n",
      "1236/1236 [==============================] - 8s 6ms/step - loss: 0.2610 - val_loss: 0.2633\n",
      "Epoch 60/100\n",
      "1236/1236 [==============================] - 8s 7ms/step - loss: 0.2609 - val_loss: 0.2633\n",
      "Epoch 61/100\n",
      "1236/1236 [==============================] - 8s 6ms/step - loss: 0.2607 - val_loss: 0.2633\n",
      "Epoch 62/100\n",
      "1236/1236 [==============================] - 8s 6ms/step - loss: 0.2607 - val_loss: 0.2637\n",
      "Epoch 63/100\n",
      "1236/1236 [==============================] - 8s 6ms/step - loss: 0.2607 - val_loss: 0.2628\n",
      "Epoch 64/100\n",
      "1236/1236 [==============================] - 8s 6ms/step - loss: 0.2605 - val_loss: 0.2630\n",
      "Epoch 65/100\n",
      "1236/1236 [==============================] - 8s 6ms/step - loss: 0.2608 - val_loss: 0.2624\n",
      "Epoch 66/100\n",
      "1236/1236 [==============================] - 8s 7ms/step - loss: 0.2607 - val_loss: 0.2627\n",
      "Epoch 67/100\n",
      "1236/1236 [==============================] - 8s 6ms/step - loss: 0.2605 - val_loss: 0.2636\n",
      "Epoch 68/100\n",
      "1236/1236 [==============================] - 8s 6ms/step - loss: 0.2605 - val_loss: 0.2630\n",
      "Epoch 69/100\n",
      "1236/1236 [==============================] - 8s 6ms/step - loss: 0.2603 - val_loss: 0.2638\n",
      "Epoch 70/100\n",
      "1236/1236 [==============================] - 8s 7ms/step - loss: 0.2605 - val_loss: 0.2624\n",
      "Epoch 71/100\n",
      "1236/1236 [==============================] - 8s 6ms/step - loss: 0.2603 - val_loss: 0.2637\n",
      "Epoch 72/100\n",
      "1236/1236 [==============================] - 8s 7ms/step - loss: 0.2605 - val_loss: 0.2653\n",
      "Epoch 73/100\n",
      "1236/1236 [==============================] - 8s 6ms/step - loss: 0.2605 - val_loss: 0.2640\n",
      "Epoch 74/100\n",
      "1236/1236 [==============================] - 8s 7ms/step - loss: 0.2604 - val_loss: 0.2634\n",
      "Epoch 75/100\n",
      "1236/1236 [==============================] - 8s 6ms/step - loss: 0.2601 - val_loss: 0.2629\n",
      "Epoch 76/100\n",
      "1236/1236 [==============================] - 8s 6ms/step - loss: 0.2600 - val_loss: 0.2634\n",
      "Epoch 77/100\n",
      "1236/1236 [==============================] - 8s 6ms/step - loss: 0.2604 - val_loss: 0.2624\n",
      "Epoch 78/100\n",
      "1236/1236 [==============================] - 8s 7ms/step - loss: 0.2599 - val_loss: 0.2635\n",
      "Epoch 79/100\n",
      "1236/1236 [==============================] - 8s 6ms/step - loss: 0.2604 - val_loss: 0.2638\n"
     ]
    },
    {
     "name": "stdout",
     "output_type": "stream",
     "text": [
      "Epoch 80/100\n",
      "1236/1236 [==============================] - 8s 6ms/step - loss: 0.2607 - val_loss: 0.2632\n",
      "Epoch 81/100\n",
      "1236/1236 [==============================] - 7s 6ms/step - loss: 0.2602 - val_loss: 0.2638\n",
      "Epoch 82/100\n",
      "1236/1236 [==============================] - 8s 6ms/step - loss: 0.2607 - val_loss: 0.2631\n",
      "Epoch 83/100\n",
      "1236/1236 [==============================] - 7s 6ms/step - loss: 0.2600 - val_loss: 0.2633\n",
      "Epoch 84/100\n",
      "1236/1236 [==============================] - 7s 6ms/step - loss: 0.2603 - val_loss: 0.2631\n",
      "Epoch 85/100\n",
      "1236/1236 [==============================] - 7s 6ms/step - loss: 0.2601 - val_loss: 0.2634\n",
      "Epoch 86/100\n",
      "1236/1236 [==============================] - 7s 6ms/step - loss: 0.2601 - val_loss: 0.2641\n",
      "Epoch 87/100\n",
      "1236/1236 [==============================] - 8s 6ms/step - loss: 0.2598 - val_loss: 0.2625\n",
      "Epoch 88/100\n",
      "1236/1236 [==============================] - 7s 6ms/step - loss: 0.2603 - val_loss: 0.2638\n",
      "Epoch 89/100\n",
      "1236/1236 [==============================] - 8s 6ms/step - loss: 0.2598 - val_loss: 0.2627\n",
      "Epoch 90/100\n",
      "1236/1236 [==============================] - 7s 6ms/step - loss: 0.2601 - val_loss: 0.2639\n",
      "Epoch 91/100\n",
      "1236/1236 [==============================] - 8s 6ms/step - loss: 0.2600 - val_loss: 0.2635\n",
      "Epoch 92/100\n",
      "1236/1236 [==============================] - 8s 6ms/step - loss: 0.2599 - val_loss: 0.2629\n",
      "Epoch 93/100\n",
      "1236/1236 [==============================] - 8s 6ms/step - loss: 0.2600 - val_loss: 0.2632\n",
      "Epoch 94/100\n",
      "1236/1236 [==============================] - 7s 6ms/step - loss: 0.2598 - val_loss: 0.2640\n",
      "Epoch 95/100\n",
      "1236/1236 [==============================] - 8s 6ms/step - loss: 0.2597 - val_loss: 0.2639\n",
      "Epoch 96/100\n",
      "1236/1236 [==============================] - 8s 6ms/step - loss: 0.2599 - val_loss: 0.2639\n",
      "Epoch 97/100\n",
      "1236/1236 [==============================] - 8s 6ms/step - loss: 0.2598 - val_loss: 0.2636\n",
      "Epoch 98/100\n",
      "1236/1236 [==============================] - 8s 6ms/step - loss: 0.2600 - val_loss: 0.2638\n",
      "Epoch 99/100\n",
      "1236/1236 [==============================] - 8s 6ms/step - loss: 0.2597 - val_loss: 0.2634\n",
      "Epoch 100/100\n",
      "1236/1236 [==============================] - 7s 6ms/step - loss: 0.2600 - val_loss: 0.2647\n"
     ]
    },
    {
     "data": {
      "text/plain": [
       "<keras.callbacks.History at 0x2cace880>"
      ]
     },
     "execution_count": 119,
     "metadata": {},
     "output_type": "execute_result"
    }
   ],
   "source": [
    "model.fit(x=X_train,y=y_train,epochs=100,batch_size=256,\n",
    "         validation_data=(X_test,y_test))"
   ]
  },
  {
   "cell_type": "code",
   "execution_count": 100,
   "id": "2e5d243c",
   "metadata": {},
   "outputs": [],
   "source": [
    "from tensorflow.keras.models import load_model"
   ]
  },
  {
   "cell_type": "code",
   "execution_count": 101,
   "id": "ae7ca457",
   "metadata": {},
   "outputs": [],
   "source": [
    "#model.save('4layers.h5')"
   ]
  },
  {
   "cell_type": "markdown",
   "id": "4da52df0",
   "metadata": {},
   "source": [
    "<font color=black size=5 face=雅黑>**Evaluating Model performance**</font>\n"
   ]
  },
  {
   "cell_type": "code",
   "execution_count": 120,
   "id": "93b0c2c4",
   "metadata": {},
   "outputs": [
    {
     "data": {
      "text/plain": [
       "{'loss': [0.35079988837242126,\n",
       "  0.27591392397880554,\n",
       "  0.2698306441307068,\n",
       "  0.2674507200717926,\n",
       "  0.26615428924560547,\n",
       "  0.2652635872364044,\n",
       "  0.2646647095680237,\n",
       "  0.26486441493034363,\n",
       "  0.26450613141059875,\n",
       "  0.26454854011535645,\n",
       "  0.26375284790992737,\n",
       "  0.2638842463493347,\n",
       "  0.26365965604782104,\n",
       "  0.2636682987213135,\n",
       "  0.2634136378765106,\n",
       "  0.2635158598423004,\n",
       "  0.2632935345172882,\n",
       "  0.2628612518310547,\n",
       "  0.26349741220474243,\n",
       "  0.26267290115356445,\n",
       "  0.26310282945632935,\n",
       "  0.26278308033943176,\n",
       "  0.2627211809158325,\n",
       "  0.2630288302898407,\n",
       "  0.2624237835407257,\n",
       "  0.2624722719192505,\n",
       "  0.26250094175338745,\n",
       "  0.2624501883983612,\n",
       "  0.2624187767505646,\n",
       "  0.26208004355430603,\n",
       "  0.26241612434387207,\n",
       "  0.2621529996395111,\n",
       "  0.26234641671180725,\n",
       "  0.2621239125728607,\n",
       "  0.26214438676834106,\n",
       "  0.2616083025932312,\n",
       "  0.26213595271110535,\n",
       "  0.26185402274131775,\n",
       "  0.2616289258003235,\n",
       "  0.2618926167488098,\n",
       "  0.2615845203399658,\n",
       "  0.26107650995254517,\n",
       "  0.2615317702293396,\n",
       "  0.2614775598049164,\n",
       "  0.2613033056259155,\n",
       "  0.2613578140735626,\n",
       "  0.2614794373512268,\n",
       "  0.261496365070343,\n",
       "  0.2612774670124054,\n",
       "  0.2614187002182007,\n",
       "  0.26116007566452026,\n",
       "  0.2615302801132202,\n",
       "  0.2613658905029297,\n",
       "  0.26094624400138855,\n",
       "  0.26087281107902527,\n",
       "  0.26077842712402344,\n",
       "  0.26095589995384216,\n",
       "  0.2608725130558014,\n",
       "  0.2609652876853943,\n",
       "  0.2608637511730194,\n",
       "  0.2606589198112488,\n",
       "  0.2607291340827942,\n",
       "  0.260708749294281,\n",
       "  0.26048868894577026,\n",
       "  0.2608119249343872,\n",
       "  0.2607080936431885,\n",
       "  0.2605421841144562,\n",
       "  0.2604963481426239,\n",
       "  0.2603171765804291,\n",
       "  0.26046282052993774,\n",
       "  0.26026636362075806,\n",
       "  0.2605103850364685,\n",
       "  0.26052290201187134,\n",
       "  0.26039400696754456,\n",
       "  0.2601369619369507,\n",
       "  0.2600468099117279,\n",
       "  0.26036301255226135,\n",
       "  0.25989049673080444,\n",
       "  0.260373592376709,\n",
       "  0.26074904203414917,\n",
       "  0.2601543962955475,\n",
       "  0.2607371509075165,\n",
       "  0.2600335478782654,\n",
       "  0.2602855861186981,\n",
       "  0.2601223886013031,\n",
       "  0.2600938081741333,\n",
       "  0.2597910463809967,\n",
       "  0.2602742910385132,\n",
       "  0.259822279214859,\n",
       "  0.2600923478603363,\n",
       "  0.2600157558917999,\n",
       "  0.2598978579044342,\n",
       "  0.2599553167819977,\n",
       "  0.2597610354423523,\n",
       "  0.2596976161003113,\n",
       "  0.2598932683467865,\n",
       "  0.25975853204727173,\n",
       "  0.2600119709968567,\n",
       "  0.2597236633300781,\n",
       "  0.25998204946517944],\n",
       " 'val_loss': [0.27194321155548096,\n",
       "  0.26955750584602356,\n",
       "  0.26843199133872986,\n",
       "  0.2672177255153656,\n",
       "  0.26608458161354065,\n",
       "  0.26472726464271545,\n",
       "  0.26583871245384216,\n",
       "  0.2650178074836731,\n",
       "  0.2636488080024719,\n",
       "  0.2626277506351471,\n",
       "  0.26363927125930786,\n",
       "  0.2638990879058838,\n",
       "  0.26350706815719604,\n",
       "  0.2647361755371094,\n",
       "  0.2636167109012604,\n",
       "  0.26453667879104614,\n",
       "  0.2629770040512085,\n",
       "  0.2630276083946228,\n",
       "  0.2635934054851532,\n",
       "  0.26372000575065613,\n",
       "  0.26195767521858215,\n",
       "  0.26344043016433716,\n",
       "  0.26362091302871704,\n",
       "  0.26283472776412964,\n",
       "  0.26343441009521484,\n",
       "  0.26312151551246643,\n",
       "  0.2634897828102112,\n",
       "  0.2635346055030823,\n",
       "  0.2645169198513031,\n",
       "  0.2632189095020294,\n",
       "  0.2632419168949127,\n",
       "  0.26335033774375916,\n",
       "  0.26288530230522156,\n",
       "  0.26456406712532043,\n",
       "  0.26358330249786377,\n",
       "  0.2630196213722229,\n",
       "  0.2627294957637787,\n",
       "  0.2636469304561615,\n",
       "  0.2643059194087982,\n",
       "  0.2632625102996826,\n",
       "  0.2629100978374481,\n",
       "  0.26349392533302307,\n",
       "  0.2631978392601013,\n",
       "  0.26334816217422485,\n",
       "  0.26439669728279114,\n",
       "  0.26366934180259705,\n",
       "  0.26196131110191345,\n",
       "  0.26378387212753296,\n",
       "  0.2630700469017029,\n",
       "  0.26321741938591003,\n",
       "  0.26315733790397644,\n",
       "  0.26285386085510254,\n",
       "  0.26304638385772705,\n",
       "  0.26244086027145386,\n",
       "  0.26354750990867615,\n",
       "  0.2627967298030853,\n",
       "  0.263240784406662,\n",
       "  0.26281896233558655,\n",
       "  0.2632657289505005,\n",
       "  0.2632962763309479,\n",
       "  0.26332154870033264,\n",
       "  0.2637302279472351,\n",
       "  0.2628353536128998,\n",
       "  0.2629989683628082,\n",
       "  0.2624437212944031,\n",
       "  0.2627386450767517,\n",
       "  0.2636382579803467,\n",
       "  0.2629556655883789,\n",
       "  0.26379671692848206,\n",
       "  0.26242703199386597,\n",
       "  0.263699471950531,\n",
       "  0.2653352618217468,\n",
       "  0.2640169858932495,\n",
       "  0.26343804597854614,\n",
       "  0.2628805935382843,\n",
       "  0.2634079158306122,\n",
       "  0.26237934827804565,\n",
       "  0.2634826600551605,\n",
       "  0.26384302973747253,\n",
       "  0.26322507858276367,\n",
       "  0.26384323835372925,\n",
       "  0.2630501091480255,\n",
       "  0.26331186294555664,\n",
       "  0.2631103992462158,\n",
       "  0.2634079158306122,\n",
       "  0.2640538811683655,\n",
       "  0.26253265142440796,\n",
       "  0.2637958824634552,\n",
       "  0.2626763880252838,\n",
       "  0.2638972997665405,\n",
       "  0.26352953910827637,\n",
       "  0.26292702555656433,\n",
       "  0.2632490396499634,\n",
       "  0.2639581561088562,\n",
       "  0.26387250423431396,\n",
       "  0.2639044225215912,\n",
       "  0.2636066675186157,\n",
       "  0.263754665851593,\n",
       "  0.26340538263320923,\n",
       "  0.2646566331386566]}"
      ]
     },
     "execution_count": 120,
     "metadata": {},
     "output_type": "execute_result"
    }
   ],
   "source": [
    "model.history.history"
   ]
  },
  {
   "cell_type": "code",
   "execution_count": 121,
   "id": "36b415a7",
   "metadata": {},
   "outputs": [
    {
     "data": {
      "text/plain": [
       "<AxesSubplot:>"
      ]
     },
     "execution_count": 121,
     "metadata": {},
     "output_type": "execute_result"
    },
    {
     "data": {
      "image/png": "[encoded data removed]",
      "text/plain": [
       "<Figure size 432x288 with 1 Axes>"
      ]
     },
     "metadata": {
      "needs_background": "light"
     },
     "output_type": "display_data"
    }
   ],
   "source": [
    "losses = pd.DataFrame(model.history.history)\n",
    "losses.plot()"
   ]
  },
  {
   "cell_type": "code",
   "execution_count": 104,
   "id": "2aed0681",
   "metadata": {},
   "outputs": [],
   "source": [
    "from sklearn.metrics import classification_report,confusion_matrix"
   ]
  },
  {
   "cell_type": "code",
   "execution_count": 108,
   "id": "32c89560",
   "metadata": {},
   "outputs": [
    {
     "name": "stdout",
     "output_type": "stream",
     "text": [
      "2471/2471 [==============================] - 4s 2ms/step\n"
     ]
    }
   ],
   "source": [
    "predictions = model.predict(X_test)"
   ]
  },
  {
   "cell_type": "code",
   "execution_count": 122,
   "id": "3db1b6e5",
   "metadata": {},
   "outputs": [
    {
     "name": "stdout",
     "output_type": "stream",
     "text": [
      "2471/2471 [==============================] - 4s 2ms/step\n"
     ]
    }
   ],
   "source": [
    "predictions = (model.predict(X_test) > 0.5).astype(\"int32\")"
   ]
  },
  {
   "cell_type": "code",
   "execution_count": 123,
   "id": "209c6b09",
   "metadata": {},
   "outputs": [
    {
     "name": "stdout",
     "output_type": "stream",
     "text": [
      "              precision    recall  f1-score   support\n",
      "\n",
      "           0       1.00      0.43      0.60     15658\n",
      "           1       0.88      1.00      0.93     63386\n",
      "\n",
      "    accuracy                           0.89     79044\n",
      "   macro avg       0.94      0.71      0.77     79044\n",
      "weighted avg       0.90      0.89      0.87     79044\n",
      "\n"
     ]
    }
   ],
   "source": [
    "print(classification_report(y_test,predictions))"
   ]
  },
  {
   "cell_type": "code",
   "execution_count": 124,
   "id": "e309c754",
   "metadata": {},
   "outputs": [
    {
     "data": {
      "text/plain": [
       "array([[ 6721,  8937],\n",
       "       [    2, 63384]], dtype=int64)"
      ]
     },
     "execution_count": 124,
     "metadata": {},
     "output_type": "execute_result"
    }
   ],
   "source": [
    "confusion_matrix(y_test,predictions)"
   ]
  },
  {
   "cell_type": "code",
   "execution_count": 128,
   "id": "aa80e9cc",
   "metadata": {},
   "outputs": [
    {
     "data": {
      "text/plain": [
       "loan_amnt           25000.00\n",
       "term                   60.00\n",
       "int_rate               18.24\n",
       "installment           638.11\n",
       "annual_inc          61665.00\n",
       "                      ...   \n",
       "48052                   0.00\n",
       "70466                   0.00\n",
       "86630                   0.00\n",
       "93700                   0.00\n",
       "earliest_cr_year     1996.00\n",
       "Name: 305323, Length: 78, dtype: float64"
      ]
     },
     "execution_count": 128,
     "metadata": {},
     "output_type": "execute_result"
    }
   ],
   "source": [
    "import random\n",
    "random.seed(101)\n",
    "random_ind = random.randint(0,len(df))\n",
    "\n",
    "new_customer = df.drop('loan_repaid',axis=1).iloc[random_ind]\n",
    "new_customer"
   ]
  },
  {
   "cell_type": "code",
   "execution_count": 129,
   "id": "ca557bd8",
   "metadata": {},
   "outputs": [
    {
     "data": {
      "text/plain": [
       "array([[0.61538462, 1.        , 0.50331126, 0.40836493, 0.00708257,\n",
       "        0.0030113 , 0.2       , 0.        , 0.01593446, 0.07340581,\n",
       "        0.29530201, 0.        , 0.        , 0.        , 0.        ,\n",
       "        0.        , 0.        , 0.        , 0.        , 0.        ,\n",
       "        0.        , 0.        , 0.        , 0.        , 0.        ,\n",
       "        0.        , 0.        , 0.        , 0.        , 0.        ,\n",
       "        0.        , 1.        , 0.        , 0.        , 0.        ,\n",
       "        0.        , 0.        , 0.        , 0.        , 0.        ,\n",
       "        0.        , 0.        , 0.        , 0.        , 0.        ,\n",
       "        0.        , 0.        , 0.        , 1.        , 1.        ,\n",
       "        0.        , 0.        , 0.        , 1.        , 0.        ,\n",
       "        0.        , 0.        , 0.        , 0.        , 0.        ,\n",
       "        0.        , 0.        , 0.        , 0.        , 0.        ,\n",
       "        0.        , 0.        , 1.        , 0.        , 0.        ,\n",
       "        0.        , 0.        , 1.        , 0.        , 0.        ,\n",
       "        0.        , 0.        , 0.75362319]])"
      ]
     },
     "execution_count": 129,
     "metadata": {},
     "output_type": "execute_result"
    }
   ],
   "source": [
    "new_customer = scaler.transform(new_customer.values.reshape(1,78))\n",
    "new_customer"
   ]
  },
  {
   "cell_type": "code",
   "execution_count": 130,
   "id": "e1003ae3",
   "metadata": {},
   "outputs": [
    {
     "name": "stdout",
     "output_type": "stream",
     "text": [
      "1/1 [==============================] - 0s 53ms/step\n"
     ]
    },
    {
     "data": {
      "text/plain": [
       "array([[1]])"
      ]
     },
     "execution_count": 130,
     "metadata": {},
     "output_type": "execute_result"
    }
   ],
   "source": [
    "(model.predict(new_customer) > 0.5).astype(\"int32\")"
   ]
  },
  {
   "cell_type": "code",
   "execution_count": 131,
   "id": "6012fc38",
   "metadata": {},
   "outputs": [
    {
     "data": {
      "text/plain": [
       "1.0"
      ]
     },
     "execution_count": 131,
     "metadata": {},
     "output_type": "execute_result"
    }
   ],
   "source": [
    "df.iloc[random_ind]['loan_repaid']"
   ]
  }
 ],
 "metadata": {
  "kernelspec": {
   "display_name": "Python 3",
   "language": "python",
   "name": "python3"
  },
  "language_info": {
   "codemirror_mode": {
    "name": "ipython",
    "version": 3
   },
   "file_extension": ".py",
   "mimetype": "text/x-python",
   "name": "python",
   "nbconvert_exporter": "python",
   "pygments_lexer": "ipython3",
   "version": "3.8.8"
  }
 },
 "nbformat": 4,
 "nbformat_minor": 5
}
